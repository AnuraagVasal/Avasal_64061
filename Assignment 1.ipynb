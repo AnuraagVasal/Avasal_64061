{
  "cells": [
    {
      "cell_type": "code",
      "execution_count": 1,
      "metadata": {
        "id": "--WHIu4ndlme",
        "outputId": "e354a2cf-98e3-4d40-f473-e6c825f9f28b",
        "colab": {
          "base_uri": "https://localhost:8080/",
          "height": 35
        }
      },
      "outputs": [
        {
          "output_type": "execute_result",
          "data": {
            "text/plain": [
              "'2.8.0'"
            ],
            "application/vnd.google.colaboratory.intrinsic+json": {
              "type": "string"
            }
          },
          "metadata": {},
          "execution_count": 1
        }
      ],
      "source": [
        "import keras\n",
        "keras.__version__"
      ]
    },
    {
      "cell_type": "markdown",
      "source": [
        "**Imoporting Dataset**"
      ],
      "metadata": {
        "id": "F3ud-rnCfwZV"
      }
    },
    {
      "cell_type": "code",
      "execution_count": 2,
      "metadata": {
        "collapsed": true,
        "id": "HBfcMBiGdlmn",
        "colab": {
          "base_uri": "https://localhost:8080/"
        },
        "outputId": "230350fd-413d-4baa-b372-dd028ba0b668"
      },
      "outputs": [
        {
          "output_type": "stream",
          "name": "stdout",
          "text": [
            "Downloading data from https://storage.googleapis.com/tensorflow/tf-keras-datasets/imdb.npz\n",
            "17465344/17464789 [==============================] - 1s 0us/step\n",
            "17473536/17464789 [==============================] - 1s 0us/step\n"
          ]
        }
      ],
      "source": [
        "from keras.datasets import imdb\n",
        "\n",
        "(train_data, train_labels), (test_data, test_labels) = imdb.load_data(num_words=10000)"
      ]
    },
    {
      "cell_type": "code",
      "execution_count": 3,
      "metadata": {
        "id": "5S3mjU19dlmo",
        "outputId": "a48d2561-0af1-4b5a-ca06-c1e28676b272",
        "colab": {
          "base_uri": "https://localhost:8080/"
        }
      },
      "outputs": [
        {
          "output_type": "execute_result",
          "data": {
            "text/plain": [
              "[1,\n",
              " 14,\n",
              " 22,\n",
              " 16,\n",
              " 43,\n",
              " 530,\n",
              " 973,\n",
              " 1622,\n",
              " 1385,\n",
              " 65,\n",
              " 458,\n",
              " 4468,\n",
              " 66,\n",
              " 3941,\n",
              " 4,\n",
              " 173,\n",
              " 36,\n",
              " 256,\n",
              " 5,\n",
              " 25,\n",
              " 100,\n",
              " 43,\n",
              " 838,\n",
              " 112,\n",
              " 50,\n",
              " 670,\n",
              " 2,\n",
              " 9,\n",
              " 35,\n",
              " 480,\n",
              " 284,\n",
              " 5,\n",
              " 150,\n",
              " 4,\n",
              " 172,\n",
              " 112,\n",
              " 167,\n",
              " 2,\n",
              " 336,\n",
              " 385,\n",
              " 39,\n",
              " 4,\n",
              " 172,\n",
              " 4536,\n",
              " 1111,\n",
              " 17,\n",
              " 546,\n",
              " 38,\n",
              " 13,\n",
              " 447,\n",
              " 4,\n",
              " 192,\n",
              " 50,\n",
              " 16,\n",
              " 6,\n",
              " 147,\n",
              " 2025,\n",
              " 19,\n",
              " 14,\n",
              " 22,\n",
              " 4,\n",
              " 1920,\n",
              " 4613,\n",
              " 469,\n",
              " 4,\n",
              " 22,\n",
              " 71,\n",
              " 87,\n",
              " 12,\n",
              " 16,\n",
              " 43,\n",
              " 530,\n",
              " 38,\n",
              " 76,\n",
              " 15,\n",
              " 13,\n",
              " 1247,\n",
              " 4,\n",
              " 22,\n",
              " 17,\n",
              " 515,\n",
              " 17,\n",
              " 12,\n",
              " 16,\n",
              " 626,\n",
              " 18,\n",
              " 2,\n",
              " 5,\n",
              " 62,\n",
              " 386,\n",
              " 12,\n",
              " 8,\n",
              " 316,\n",
              " 8,\n",
              " 106,\n",
              " 5,\n",
              " 4,\n",
              " 2223,\n",
              " 5244,\n",
              " 16,\n",
              " 480,\n",
              " 66,\n",
              " 3785,\n",
              " 33,\n",
              " 4,\n",
              " 130,\n",
              " 12,\n",
              " 16,\n",
              " 38,\n",
              " 619,\n",
              " 5,\n",
              " 25,\n",
              " 124,\n",
              " 51,\n",
              " 36,\n",
              " 135,\n",
              " 48,\n",
              " 25,\n",
              " 1415,\n",
              " 33,\n",
              " 6,\n",
              " 22,\n",
              " 12,\n",
              " 215,\n",
              " 28,\n",
              " 77,\n",
              " 52,\n",
              " 5,\n",
              " 14,\n",
              " 407,\n",
              " 16,\n",
              " 82,\n",
              " 2,\n",
              " 8,\n",
              " 4,\n",
              " 107,\n",
              " 117,\n",
              " 5952,\n",
              " 15,\n",
              " 256,\n",
              " 4,\n",
              " 2,\n",
              " 7,\n",
              " 3766,\n",
              " 5,\n",
              " 723,\n",
              " 36,\n",
              " 71,\n",
              " 43,\n",
              " 530,\n",
              " 476,\n",
              " 26,\n",
              " 400,\n",
              " 317,\n",
              " 46,\n",
              " 7,\n",
              " 4,\n",
              " 2,\n",
              " 1029,\n",
              " 13,\n",
              " 104,\n",
              " 88,\n",
              " 4,\n",
              " 381,\n",
              " 15,\n",
              " 297,\n",
              " 98,\n",
              " 32,\n",
              " 2071,\n",
              " 56,\n",
              " 26,\n",
              " 141,\n",
              " 6,\n",
              " 194,\n",
              " 7486,\n",
              " 18,\n",
              " 4,\n",
              " 226,\n",
              " 22,\n",
              " 21,\n",
              " 134,\n",
              " 476,\n",
              " 26,\n",
              " 480,\n",
              " 5,\n",
              " 144,\n",
              " 30,\n",
              " 5535,\n",
              " 18,\n",
              " 51,\n",
              " 36,\n",
              " 28,\n",
              " 224,\n",
              " 92,\n",
              " 25,\n",
              " 104,\n",
              " 4,\n",
              " 226,\n",
              " 65,\n",
              " 16,\n",
              " 38,\n",
              " 1334,\n",
              " 88,\n",
              " 12,\n",
              " 16,\n",
              " 283,\n",
              " 5,\n",
              " 16,\n",
              " 4472,\n",
              " 113,\n",
              " 103,\n",
              " 32,\n",
              " 15,\n",
              " 16,\n",
              " 5345,\n",
              " 19,\n",
              " 178,\n",
              " 32]"
            ]
          },
          "metadata": {},
          "execution_count": 3
        }
      ],
      "source": [
        "train_data[0]"
      ]
    },
    {
      "cell_type": "code",
      "execution_count": 4,
      "metadata": {
        "id": "t19wgJPMdlmp",
        "outputId": "1f9a0318-a6e0-4613-8d88-8ba5b0c3c5ab",
        "colab": {
          "base_uri": "https://localhost:8080/"
        }
      },
      "outputs": [
        {
          "output_type": "execute_result",
          "data": {
            "text/plain": [
              "1"
            ]
          },
          "metadata": {},
          "execution_count": 4
        }
      ],
      "source": [
        "train_labels[0]"
      ]
    },
    {
      "cell_type": "markdown",
      "metadata": {
        "id": "PSDjSJIadlmp"
      },
      "source": [
        "Since we restricted ourselves to the top 10,000 most frequent words, no word index will exceed 10,000:"
      ]
    },
    {
      "cell_type": "code",
      "execution_count": 5,
      "metadata": {
        "id": "oypQPFXNdlmq",
        "outputId": "085451ff-9a42-44ce-8859-a80de2f70edd",
        "colab": {
          "base_uri": "https://localhost:8080/"
        }
      },
      "outputs": [
        {
          "output_type": "execute_result",
          "data": {
            "text/plain": [
              "9999"
            ]
          },
          "metadata": {},
          "execution_count": 5
        }
      ],
      "source": [
        "max([max(sequence) for sequence in train_data])"
      ]
    },
    {
      "cell_type": "markdown",
      "metadata": {
        "id": "DL-6XQgmdlmr"
      },
      "source": [
        "## Preparing the data"
      ]
    },
    {
      "cell_type": "code",
      "execution_count": 6,
      "metadata": {
        "collapsed": true,
        "id": "34TnOZ8Vdlms"
      },
      "outputs": [],
      "source": [
        "import numpy as np\n",
        "\n",
        "def vectorize_sequences(sequences, dimension=10000):\n",
        "    # Create an all-zero matrix of shape (len(sequences), dimension)\n",
        "    results = np.zeros((len(sequences), dimension))\n",
        "    for i, sequence in enumerate(sequences):\n",
        "        results[i, sequence] = 1.  # set specific indices of results[i] to 1s\n",
        "    return results\n",
        "\n",
        "# Our vectorized training data\n",
        "x_train = vectorize_sequences(train_data)\n",
        "# Our vectorized test data\n",
        "x_test = vectorize_sequences(test_data)"
      ]
    },
    {
      "cell_type": "code",
      "execution_count": 7,
      "metadata": {
        "id": "uX-Iw7ppdlms",
        "outputId": "c145b9a1-b8af-4eb6-d8e7-af4dfb31ff6e",
        "colab": {
          "base_uri": "https://localhost:8080/"
        }
      },
      "outputs": [
        {
          "output_type": "execute_result",
          "data": {
            "text/plain": [
              "array([0., 1., 1., ..., 0., 0., 0.])"
            ]
          },
          "metadata": {},
          "execution_count": 7
        }
      ],
      "source": [
        "x_train[0]"
      ]
    },
    {
      "cell_type": "markdown",
      "metadata": {
        "id": "l-eYDSmodlms"
      },
      "source": [
        "Vectorizing the labels"
      ]
    },
    {
      "cell_type": "code",
      "execution_count": 8,
      "metadata": {
        "collapsed": true,
        "id": "BZWWvAGLdlmt"
      },
      "outputs": [],
      "source": [
        "# Our vectorized labels\n",
        "y_train = np.asarray(train_labels).astype('float32')\n",
        "y_test = np.asarray(test_labels).astype('float32')"
      ]
    },
    {
      "cell_type": "markdown",
      "metadata": {
        "id": "M4Knxddjdlmt"
      },
      "source": [
        "## Building the network"
      ]
    },
    {
      "cell_type": "markdown",
      "metadata": {
        "id": "ASpirBF0dlmu"
      },
      "source": [
        "Implementing Keras"
      ]
    },
    {
      "cell_type": "code",
      "execution_count": 9,
      "metadata": {
        "collapsed": true,
        "id": "w5CFka0qdlmu"
      },
      "outputs": [],
      "source": [
        "from keras import models\n",
        "from keras import layers\n",
        "\n",
        "model = models.Sequential()\n",
        "model.add(layers.Dense(16, activation='relu', input_shape=(10000,)))\n",
        "model.add(layers.Dense(16, activation='relu'))\n",
        "model.add(layers.Dense(1, activation='sigmoid'))"
      ]
    },
    {
      "cell_type": "code",
      "execution_count": 10,
      "metadata": {
        "collapsed": true,
        "id": "WHJoAHYQdlmu"
      },
      "outputs": [],
      "source": [
        "model.compile(optimizer='rmsprop',\n",
        "              loss='binary_crossentropy',\n",
        "              metrics=['accuracy'])"
      ]
    },
    {
      "cell_type": "code",
      "execution_count": 11,
      "metadata": {
        "collapsed": true,
        "id": "YCWTjO50dlmv"
      },
      "outputs": [],
      "source": [
        "from tensorflow.keras import optimizers\n",
        "\n",
        "model.compile(optimizer=optimizers.RMSprop(learning_rate=0.001),\n",
        "              loss='binary_crossentropy',\n",
        "              metrics=['accuracy'])"
      ]
    },
    {
      "cell_type": "code",
      "execution_count": 12,
      "metadata": {
        "collapsed": true,
        "id": "ttF1zFcFdlmv"
      },
      "outputs": [],
      "source": [
        "from keras import losses\n",
        "from keras import metrics\n",
        "\n",
        "model.compile(optimizer=optimizers.RMSprop(learning_rate=0.001),\n",
        "              loss=losses.binary_crossentropy,\n",
        "              metrics=[metrics.binary_accuracy])"
      ]
    },
    {
      "cell_type": "markdown",
      "metadata": {
        "id": "wJWKvHrVdlmv"
      },
      "source": [
        "## Validating the approach"
      ]
    },
    {
      "cell_type": "code",
      "execution_count": 13,
      "metadata": {
        "collapsed": true,
        "id": "6zuPh-wNdlmv"
      },
      "outputs": [],
      "source": [
        "x_val = x_train[:10000]\n",
        "partial_x_train = x_train[10000:]\n",
        "\n",
        "y_val = y_train[:10000]\n",
        "partial_y_train = y_train[10000:]"
      ]
    },
    {
      "cell_type": "markdown",
      "metadata": {
        "collapsed": true,
        "id": "UWDjItFsdlmv"
      },
      "source": [
        "Training the model for 20 epochs, in mini-batches of 512 \n",
        "samples."
      ]
    },
    {
      "cell_type": "code",
      "execution_count": 14,
      "metadata": {
        "id": "1y5eoaJsdlmv",
        "outputId": "50424a36-ff9d-4a00-eea9-a3d2efbd88bb",
        "colab": {
          "base_uri": "https://localhost:8080/"
        }
      },
      "outputs": [
        {
          "output_type": "stream",
          "name": "stdout",
          "text": [
            "Epoch 1/20\n",
            "30/30 [==============================] - 5s 35ms/step - loss: 0.4937 - binary_accuracy: 0.8013 - val_loss: 0.3788 - val_binary_accuracy: 0.8665\n",
            "Epoch 2/20\n",
            "30/30 [==============================] - 0s 15ms/step - loss: 0.2939 - binary_accuracy: 0.9064 - val_loss: 0.2989 - val_binary_accuracy: 0.8898\n",
            "Epoch 3/20\n",
            "30/30 [==============================] - 0s 16ms/step - loss: 0.2180 - binary_accuracy: 0.9285 - val_loss: 0.2849 - val_binary_accuracy: 0.8883\n",
            "Epoch 4/20\n",
            "30/30 [==============================] - 0s 14ms/step - loss: 0.1728 - binary_accuracy: 0.9423 - val_loss: 0.2863 - val_binary_accuracy: 0.8862\n",
            "Epoch 5/20\n",
            "30/30 [==============================] - 0s 15ms/step - loss: 0.1390 - binary_accuracy: 0.9557 - val_loss: 0.2842 - val_binary_accuracy: 0.8876\n",
            "Epoch 6/20\n",
            "30/30 [==============================] - 0s 14ms/step - loss: 0.1130 - binary_accuracy: 0.9651 - val_loss: 0.2992 - val_binary_accuracy: 0.8872\n",
            "Epoch 7/20\n",
            "30/30 [==============================] - 0s 15ms/step - loss: 0.0934 - binary_accuracy: 0.9727 - val_loss: 0.3325 - val_binary_accuracy: 0.8798\n",
            "Epoch 8/20\n",
            "30/30 [==============================] - 0s 15ms/step - loss: 0.0768 - binary_accuracy: 0.9795 - val_loss: 0.3399 - val_binary_accuracy: 0.8792\n",
            "Epoch 9/20\n",
            "30/30 [==============================] - 0s 14ms/step - loss: 0.0634 - binary_accuracy: 0.9833 - val_loss: 0.3860 - val_binary_accuracy: 0.8748\n",
            "Epoch 10/20\n",
            "30/30 [==============================] - 0s 15ms/step - loss: 0.0518 - binary_accuracy: 0.9878 - val_loss: 0.3829 - val_binary_accuracy: 0.8767\n",
            "Epoch 11/20\n",
            "30/30 [==============================] - 0s 15ms/step - loss: 0.0382 - binary_accuracy: 0.9932 - val_loss: 0.4169 - val_binary_accuracy: 0.8756\n",
            "Epoch 12/20\n",
            "30/30 [==============================] - 0s 14ms/step - loss: 0.0329 - binary_accuracy: 0.9937 - val_loss: 0.4656 - val_binary_accuracy: 0.8672\n",
            "Epoch 13/20\n",
            "30/30 [==============================] - 0s 14ms/step - loss: 0.0239 - binary_accuracy: 0.9963 - val_loss: 0.4859 - val_binary_accuracy: 0.8702\n",
            "Epoch 14/20\n",
            "30/30 [==============================] - 0s 15ms/step - loss: 0.0192 - binary_accuracy: 0.9971 - val_loss: 0.5250 - val_binary_accuracy: 0.8716\n",
            "Epoch 15/20\n",
            "30/30 [==============================] - 0s 14ms/step - loss: 0.0195 - binary_accuracy: 0.9963 - val_loss: 0.5370 - val_binary_accuracy: 0.8719\n",
            "Epoch 16/20\n",
            "30/30 [==============================] - 0s 14ms/step - loss: 0.0095 - binary_accuracy: 0.9995 - val_loss: 0.5700 - val_binary_accuracy: 0.8697\n",
            "Epoch 17/20\n",
            "30/30 [==============================] - 0s 15ms/step - loss: 0.0103 - binary_accuracy: 0.9985 - val_loss: 0.6036 - val_binary_accuracy: 0.8679\n",
            "Epoch 18/20\n",
            "30/30 [==============================] - 0s 15ms/step - loss: 0.0087 - binary_accuracy: 0.9986 - val_loss: 0.6341 - val_binary_accuracy: 0.8668\n",
            "Epoch 19/20\n",
            "30/30 [==============================] - 0s 17ms/step - loss: 0.0041 - binary_accuracy: 0.9999 - val_loss: 0.6743 - val_binary_accuracy: 0.8661\n",
            "Epoch 20/20\n",
            "30/30 [==============================] - 0s 15ms/step - loss: 0.0067 - binary_accuracy: 0.9985 - val_loss: 0.7081 - val_binary_accuracy: 0.8665\n"
          ]
        }
      ],
      "source": [
        "history = model.fit(partial_x_train,\n",
        "                    partial_y_train,\n",
        "                    epochs=20,\n",
        "                    batch_size=512,\n",
        "                    validation_data=(x_val, y_val))"
      ]
    },
    {
      "cell_type": "code",
      "execution_count": 15,
      "metadata": {
        "id": "Y0AyqzP7dlmw",
        "outputId": "90522f01-4817-42c4-8378-c74ca40614de",
        "colab": {
          "base_uri": "https://localhost:8080/"
        }
      },
      "outputs": [
        {
          "output_type": "execute_result",
          "data": {
            "text/plain": [
              "dict_keys(['loss', 'binary_accuracy', 'val_loss', 'val_binary_accuracy'])"
            ]
          },
          "metadata": {},
          "execution_count": 15
        }
      ],
      "source": [
        "history_dict = history.history\n",
        "history_dict.keys()"
      ]
    },
    {
      "cell_type": "markdown",
      "metadata": {
        "id": "9inz6t0cdlmw"
      },
      "source": [
        "Using Matplotlib to plot the \n",
        "training and validation loss side by side, as well as the training and validation accuracy:"
      ]
    },
    {
      "cell_type": "code",
      "execution_count": 16,
      "metadata": {
        "id": "V9RcCwSNdlmw",
        "outputId": "8f0573a5-7eaf-49d5-97e2-a252236b97e2",
        "colab": {
          "base_uri": "https://localhost:8080/",
          "height": 295
        }
      },
      "outputs": [
        {
          "output_type": "display_data",
          "data": {
            "text/plain": [
              "<Figure size 432x288 with 1 Axes>"
            ],
            "image/png": "[encoded data removed]"
          },
          "metadata": {
            "needs_background": "light"
          }
        }
      ],
      "source": [
        "import matplotlib.pyplot as plt\n",
        "\n",
        "acc = history.history['binary_accuracy']\n",
        "val_acc = history.history['val_binary_accuracy']\n",
        "loss = history.history['loss']\n",
        "val_loss = history.history['val_loss']\n",
        "\n",
        "epochs = range(1, len(acc) + 1)\n",
        "\n",
        "# \"bo\" is for \"blue dot\"\n",
        "plt.plot(epochs, loss, 'bo', label='Training loss')\n",
        "# b is for \"solid blue line\"\n",
        "plt.plot(epochs, val_loss, 'b', label='Validation loss')\n",
        "plt.title('Training and validation loss')\n",
        "plt.xlabel('Epochs')\n",
        "plt.ylabel('Loss')\n",
        "plt.legend()\n",
        "\n",
        "plt.show()"
      ]
    },
    {
      "cell_type": "code",
      "execution_count": 17,
      "metadata": {
        "id": "g828dyqVdlmx",
        "outputId": "771e726e-5949-435d-c266-205f967fd629",
        "colab": {
          "base_uri": "https://localhost:8080/",
          "height": 295
        }
      },
      "outputs": [
        {
          "output_type": "display_data",
          "data": {
            "text/plain": [
              "<Figure size 432x288 with 1 Axes>"
            ],
            "image/png": "[encoded data removed]"
          },
          "metadata": {
            "needs_background": "light"
          }
        }
      ],
      "source": [
        "plt.clf()   # clear figure\n",
        "acc_values = history_dict['binary_accuracy']\n",
        "val_acc_values = history_dict['val_binary_accuracy']\n",
        "\n",
        "plt.plot(epochs, acc, 'bo', label='Training acc')\n",
        "plt.plot(epochs, val_acc, 'b', label='Validation acc')\n",
        "plt.title('Training and validation accuracy')\n",
        "plt.xlabel('Epochs')\n",
        "plt.ylabel('Loss')\n",
        "plt.legend()\n",
        "\n",
        "plt.show()"
      ]
    },
    {
      "cell_type": "markdown",
      "metadata": {
        "id": "u6jWKbAadlmx"
      },
      "source": [
        "The dots are the training loss and accuracy, while the solid lines are the validation loss and accuracy.The training loss decreases with every epoch and the training accuracy increases with every epoch, But that isn't the case for the validation loss and accuracy."
      ]
    },
    {
      "cell_type": "code",
      "execution_count": 18,
      "metadata": {
        "id": "37b3CaRodlmx",
        "outputId": "68aca654-2538-499a-ce1d-719c40871de1",
        "colab": {
          "base_uri": "https://localhost:8080/"
        }
      },
      "outputs": [
        {
          "output_type": "stream",
          "name": "stdout",
          "text": [
            "Epoch 1/4\n",
            "49/49 [==============================] - 1s 9ms/step - loss: 0.4704 - accuracy: 0.8208\n",
            "Epoch 2/4\n",
            "49/49 [==============================] - 0s 9ms/step - loss: 0.2621 - accuracy: 0.9103\n",
            "Epoch 3/4\n",
            "49/49 [==============================] - 0s 9ms/step - loss: 0.1996 - accuracy: 0.9291\n",
            "Epoch 4/4\n",
            "49/49 [==============================] - 0s 9ms/step - loss: 0.1679 - accuracy: 0.9404\n",
            "782/782 [==============================] - 2s 2ms/step - loss: 0.2949 - accuracy: 0.8848\n"
          ]
        }
      ],
      "source": [
        "model1 = models.Sequential()\n",
        "model1.add(layers.Dense(16, activation='relu', input_shape=(10000,)))\n",
        "model1.add(layers.Dense(16, activation='relu'))\n",
        "model1.add(layers.Dense(1, activation='sigmoid'))\n",
        "\n",
        "model1.compile(optimizer='rmsprop',\n",
        "              loss='binary_crossentropy',\n",
        "              metrics=['accuracy'])\n",
        "\n",
        "model1.fit(x_train, y_train, epochs=4, batch_size=512)\n",
        "results1 = model1.evaluate(x_test, y_test)"
      ]
    },
    {
      "cell_type": "code",
      "execution_count": 19,
      "metadata": {
        "id": "0eX-zasHdlmy",
        "outputId": "e7f1b325-7385-4030-9eaa-1c78def43072",
        "colab": {
          "base_uri": "https://localhost:8080/"
        }
      },
      "outputs": [
        {
          "output_type": "execute_result",
          "data": {
            "text/plain": [
              "[0.29488927125930786, 0.8848400115966797]"
            ]
          },
          "metadata": {},
          "execution_count": 19
        }
      ],
      "source": [
        "results1"
      ]
    },
    {
      "cell_type": "markdown",
      "metadata": {
        "id": "DwpLXLd7dlmy"
      },
      "source": [
        "## Using a trained network to generate predictions on new data"
      ]
    },
    {
      "cell_type": "code",
      "execution_count": 20,
      "metadata": {
        "id": "oIrKnuxQdlmy",
        "outputId": "23386f43-a8e0-447b-a1fa-eb325d26d68b",
        "colab": {
          "base_uri": "https://localhost:8080/"
        }
      },
      "outputs": [
        {
          "output_type": "execute_result",
          "data": {
            "text/plain": [
              "array([[0.16609219],\n",
              "       [0.99995875],\n",
              "       [0.8871399 ],\n",
              "       ...,\n",
              "       [0.09867929],\n",
              "       [0.07836569],\n",
              "       [0.6572852 ]], dtype=float32)"
            ]
          },
          "metadata": {},
          "execution_count": 20
        }
      ],
      "source": [
        "model1.predict(x_test)"
      ]
    },
    {
      "cell_type": "markdown",
      "source": [
        "**Question 1.** You used two hidden layers. Try using one or three hidden layers, and see how doing so affects validation and test accuracy."
      ],
      "metadata": {
        "id": "l8l62ltxie7n"
      }
    },
    {
      "cell_type": "code",
      "source": [
        "model2 = keras.Sequential()\n",
        "model2.add(layers.Dense(16, activation='relu', input_shape=(10000,)))\n",
        "model2.add(layers.Dense(16, activation='relu'))\n",
        "model2.add(layers.Dense(16, activation='relu'))\n",
        "model2.add(layers.Dense(1, activation='sigmoid'))\n",
        "\n",
        "model2.compile(optimizer='rmsprop',\n",
        "              loss='binary_crossentropy',\n",
        "              metrics=['accuracy'])\n",
        "\n",
        "model2.fit(x_train, y_train, epochs=4, batch_size=512)\n",
        "results2 = model2.evaluate(x_test, y_test)"
      ],
      "metadata": {
        "id": "zd9xFnfJjaQ9",
        "outputId": "eeb349f2-4c9d-48b6-d818-7fdba56544b2",
        "colab": {
          "base_uri": "https://localhost:8080/"
        }
      },
      "execution_count": 21,
      "outputs": [
        {
          "output_type": "stream",
          "name": "stdout",
          "text": [
            "Epoch 1/4\n",
            "49/49 [==============================] - 1s 10ms/step - loss: 0.4588 - accuracy: 0.8215\n",
            "Epoch 2/4\n",
            "49/49 [==============================] - 0s 9ms/step - loss: 0.2521 - accuracy: 0.9112\n",
            "Epoch 3/4\n",
            "49/49 [==============================] - 0s 9ms/step - loss: 0.1961 - accuracy: 0.9295\n",
            "Epoch 4/4\n",
            "49/49 [==============================] - 0s 9ms/step - loss: 0.1609 - accuracy: 0.9444\n",
            "782/782 [==============================] - 2s 2ms/step - loss: 0.3022 - accuracy: 0.8831\n"
          ]
        }
      ]
    },
    {
      "cell_type": "code",
      "source": [
        "results2"
      ],
      "metadata": {
        "id": "D3U1Or31kxtp",
        "outputId": "440bc5ef-0bdd-43cc-ca29-403402b0de52",
        "colab": {
          "base_uri": "https://localhost:8080/"
        }
      },
      "execution_count": 22,
      "outputs": [
        {
          "output_type": "execute_result",
          "data": {
            "text/plain": [
              "[0.3022139072418213, 0.883080005645752]"
            ]
          },
          "metadata": {},
          "execution_count": 22
        }
      ]
    },
    {
      "cell_type": "markdown",
      "source": [
        "**Question 2.** Try using layers with more hidden units or fewer hidden units: 32 units, 64 units, and so \n",
        "on.   "
      ],
      "metadata": {
        "id": "1SOf2gGClAa1"
      }
    },
    {
      "cell_type": "code",
      "source": [
        "model3 = keras.Sequential()\n",
        "model3.add(layers.Dense(32, activation='relu'))\n",
        "model3.add(layers.Dense(32, activation='relu'))\n",
        "model3.add(layers.Dense(1, activation='sigmoid'))\n",
        "\n",
        "model3.compile(optimizer='rmsprop',\n",
        "              loss='binary_crossentropy',\n",
        "              metrics=['accuracy'])\n",
        "\n",
        "model3.fit(x_train, y_train, epochs=3, batch_size=512)\n",
        "results3 = model3.evaluate(x_test, y_test)"
      ],
      "metadata": {
        "id": "7gW0JvKama8n",
        "outputId": "9584fbbf-9f35-4506-f659-8f42f96bfece",
        "colab": {
          "base_uri": "https://localhost:8080/"
        }
      },
      "execution_count": 23,
      "outputs": [
        {
          "output_type": "stream",
          "name": "stdout",
          "text": [
            "Epoch 1/3\n",
            "49/49 [==============================] - 1s 9ms/step - loss: 0.4306 - accuracy: 0.8153\n",
            "Epoch 2/3\n",
            "49/49 [==============================] - 0s 9ms/step - loss: 0.2397 - accuracy: 0.9138\n",
            "Epoch 3/3\n",
            "49/49 [==============================] - 0s 9ms/step - loss: 0.1892 - accuracy: 0.9296\n",
            "782/782 [==============================] - 2s 2ms/step - loss: 0.3469 - accuracy: 0.8633\n"
          ]
        }
      ]
    },
    {
      "cell_type": "code",
      "source": [
        "results3"
      ],
      "metadata": {
        "id": "Ls2ldIohmrDc",
        "outputId": "2e74b560-4e5b-4070-92c2-cd59c4e40694",
        "colab": {
          "base_uri": "https://localhost:8080/"
        }
      },
      "execution_count": 24,
      "outputs": [
        {
          "output_type": "execute_result",
          "data": {
            "text/plain": [
              "[0.34694987535476685, 0.8632799983024597]"
            ]
          },
          "metadata": {},
          "execution_count": 24
        }
      ]
    },
    {
      "cell_type": "markdown",
      "source": [
        "**Question 3**. Try using the mse loss function instead of binary_crossentropy.  "
      ],
      "metadata": {
        "id": "FBUPP3STm1Yu"
      }
    },
    {
      "cell_type": "code",
      "source": [
        "model4 = keras.Sequential()\n",
        "model4.add(layers.Dense(16, activation='relu'))\n",
        "model4.add(layers.Dense(16, activation='relu'))\n",
        "model4.add(layers.Dense(1, activation='sigmoid'))\n",
        "\n",
        "model4.compile(optimizer='rmsprop',\n",
        "              loss='mse',\n",
        "              metrics=['accuracy'])\n",
        "\n",
        "model4.fit(x_train, y_train, epochs=3, batch_size=512)\n",
        "results4 = model4.evaluate(x_test, y_test)"
      ],
      "metadata": {
        "id": "KyJqtIv4m-dG",
        "outputId": "ec4c87af-a1ea-41b0-cb21-08b99759c34d",
        "colab": {
          "base_uri": "https://localhost:8080/"
        }
      },
      "execution_count": 25,
      "outputs": [
        {
          "output_type": "stream",
          "name": "stdout",
          "text": [
            "Epoch 1/3\n",
            "49/49 [==============================] - 1s 9ms/step - loss: 0.1467 - accuracy: 0.8272\n",
            "Epoch 2/3\n",
            "49/49 [==============================] - 0s 8ms/step - loss: 0.0789 - accuracy: 0.9102\n",
            "Epoch 3/3\n",
            "49/49 [==============================] - 0s 9ms/step - loss: 0.0598 - accuracy: 0.9291\n",
            "782/782 [==============================] - 2s 2ms/step - loss: 0.0872 - accuracy: 0.8828\n"
          ]
        }
      ]
    },
    {
      "cell_type": "code",
      "source": [
        "results4"
      ],
      "metadata": {
        "id": "lkPonyPqoYk2",
        "outputId": "e5f2066d-041e-48b1-902a-6830a426be7f",
        "colab": {
          "base_uri": "https://localhost:8080/"
        }
      },
      "execution_count": 26,
      "outputs": [
        {
          "output_type": "execute_result",
          "data": {
            "text/plain": [
              "[0.08722622692584991, 0.8827599883079529]"
            ]
          },
          "metadata": {},
          "execution_count": 26
        }
      ]
    },
    {
      "cell_type": "markdown",
      "source": [
        "**Question 4**. Try using the tanh activation (an activation that was popular in the early days of neural \n",
        "networks) instead of relu. "
      ],
      "metadata": {
        "id": "AsfK2YXgofeL"
      }
    },
    {
      "cell_type": "code",
      "source": [
        "model5 = keras.Sequential()\n",
        "model5.add(layers.Dense(16, activation='tanh'))\n",
        "model5.add(layers.Dense(16, activation='tanh'))\n",
        "model5.add(layers.Dense(1, activation='sigmoid'))\n",
        "\n",
        "model5.compile(optimizer='rmsprop',\n",
        "              loss='binary_crossentropy',\n",
        "              metrics=['accuracy'])\n",
        "\n",
        "model5.fit(x_train, y_train, epochs=3, batch_size=512)\n",
        "results5 = model5.evaluate(x_test, y_test)"
      ],
      "metadata": {
        "id": "EZYNgCtYon2W",
        "colab": {
          "base_uri": "https://localhost:8080/"
        },
        "outputId": "ad318323-e2b1-4fd2-8b39-8f940d5d84f8"
      },
      "execution_count": 27,
      "outputs": [
        {
          "output_type": "stream",
          "name": "stdout",
          "text": [
            "Epoch 1/3\n",
            "49/49 [==============================] - 1s 9ms/step - loss: 0.4439 - accuracy: 0.8352\n",
            "Epoch 2/3\n",
            "49/49 [==============================] - 0s 9ms/step - loss: 0.2494 - accuracy: 0.9138\n",
            "Epoch 3/3\n",
            "49/49 [==============================] - 0s 9ms/step - loss: 0.1841 - accuracy: 0.9348\n",
            "782/782 [==============================] - 2s 2ms/step - loss: 0.2872 - accuracy: 0.8845\n"
          ]
        }
      ]
    },
    {
      "cell_type": "code",
      "source": [
        "results5"
      ],
      "metadata": {
        "id": "02sTSZPesGFJ",
        "colab": {
          "base_uri": "https://localhost:8080/"
        },
        "outputId": "00693eb0-eb83-47d0-fd0d-5903cf81e7c2"
      },
      "execution_count": 28,
      "outputs": [
        {
          "output_type": "execute_result",
          "data": {
            "text/plain": [
              "[0.28716957569122314, 0.8844799995422363]"
            ]
          },
          "metadata": {},
          "execution_count": 28
        }
      ]
    },
    {
      "cell_type": "markdown",
      "source": [
        "**Question 5.** Use any technique we studied in class, and these include regularization, dropout, etc., to get your model to perform better on validation"
      ],
      "metadata": {
        "id": "D32_gFhDsH1C"
      }
    },
    {
      "cell_type": "code",
      "source": [
        "from tensorflow.keras import regularizers\n",
        "model6_Dropout = keras.Sequential([\n",
        "    layers.Dense(32, activation=\"relu\"),\n",
        "    layers.Dropout(0.5),\n",
        "    layers.Dense(32, activation=\"relu\"),\n",
        "    layers.Dropout(0.5),\n",
        "    layers.Dense(1, activation=\"sigmoid\")\n",
        "])\n",
        "model6_Dropout.compile(optimizer=\"rmsprop\",\n",
        "              loss=\"binary_crossentropy\",\n",
        "              metrics=[\"accuracy\"])\n",
        "history_model6_Dropout = model6_Dropout.fit(x_train,\n",
        "                    y_train,\n",
        "                    epochs=20,\n",
        "                    batch_size=512,\n",
        "                    validation_data=(x_val, y_val))\n",
        "history6_dict_Dropout = history_model6_Dropout.history\n",
        "history6_dict_Dropout.keys()"
      ],
      "metadata": {
        "colab": {
          "base_uri": "https://localhost:8080/"
        },
        "id": "Y1CO4zBNczPF",
        "outputId": "c163b145-eb83-4fdb-d9c1-9b81d4dec899"
      },
      "execution_count": 29,
      "outputs": [
        {
          "output_type": "stream",
          "name": "stdout",
          "text": [
            "Epoch 1/20\n",
            "49/49 [==============================] - 2s 22ms/step - loss: 0.5639 - accuracy: 0.7123 - val_loss: 0.3642 - val_accuracy: 0.8983\n",
            "Epoch 2/20\n",
            "49/49 [==============================] - 1s 13ms/step - loss: 0.3743 - accuracy: 0.8608 - val_loss: 0.2396 - val_accuracy: 0.9228\n",
            "Epoch 3/20\n",
            "49/49 [==============================] - 1s 13ms/step - loss: 0.2833 - accuracy: 0.9010 - val_loss: 0.2147 - val_accuracy: 0.9122\n",
            "Epoch 4/20\n",
            "49/49 [==============================] - 1s 13ms/step - loss: 0.2367 - accuracy: 0.9184 - val_loss: 0.1478 - val_accuracy: 0.9528\n",
            "Epoch 5/20\n",
            "49/49 [==============================] - 1s 13ms/step - loss: 0.1945 - accuracy: 0.9321 - val_loss: 0.1239 - val_accuracy: 0.9630\n",
            "Epoch 6/20\n",
            "49/49 [==============================] - 1s 13ms/step - loss: 0.1694 - accuracy: 0.9429 - val_loss: 0.1002 - val_accuracy: 0.9699\n",
            "Epoch 7/20\n",
            "49/49 [==============================] - 1s 13ms/step - loss: 0.1468 - accuracy: 0.9498 - val_loss: 0.0847 - val_accuracy: 0.9758\n",
            "Epoch 8/20\n",
            "49/49 [==============================] - 1s 13ms/step - loss: 0.1315 - accuracy: 0.9581 - val_loss: 0.0732 - val_accuracy: 0.9805\n",
            "Epoch 9/20\n",
            "49/49 [==============================] - 1s 12ms/step - loss: 0.1170 - accuracy: 0.9624 - val_loss: 0.0725 - val_accuracy: 0.9811\n",
            "Epoch 10/20\n",
            "49/49 [==============================] - 1s 12ms/step - loss: 0.1058 - accuracy: 0.9676 - val_loss: 0.0520 - val_accuracy: 0.9879\n",
            "Epoch 11/20\n",
            "49/49 [==============================] - 1s 13ms/step - loss: 0.0931 - accuracy: 0.9713 - val_loss: 0.0434 - val_accuracy: 0.9899\n",
            "Epoch 12/20\n",
            "49/49 [==============================] - 1s 13ms/step - loss: 0.0850 - accuracy: 0.9726 - val_loss: 0.0401 - val_accuracy: 0.9915\n",
            "Epoch 13/20\n",
            "49/49 [==============================] - 1s 12ms/step - loss: 0.0820 - accuracy: 0.9759 - val_loss: 0.0344 - val_accuracy: 0.9916\n",
            "Epoch 14/20\n",
            "49/49 [==============================] - 1s 13ms/step - loss: 0.0793 - accuracy: 0.9762 - val_loss: 0.0298 - val_accuracy: 0.9933\n",
            "Epoch 15/20\n",
            "49/49 [==============================] - 1s 13ms/step - loss: 0.0726 - accuracy: 0.9796 - val_loss: 0.0285 - val_accuracy: 0.9945\n",
            "Epoch 16/20\n",
            "49/49 [==============================] - 1s 13ms/step - loss: 0.0705 - accuracy: 0.9783 - val_loss: 0.0248 - val_accuracy: 0.9943\n",
            "Epoch 17/20\n",
            "49/49 [==============================] - 1s 13ms/step - loss: 0.0646 - accuracy: 0.9816 - val_loss: 0.0258 - val_accuracy: 0.9953\n",
            "Epoch 18/20\n",
            "49/49 [==============================] - 1s 13ms/step - loss: 0.0648 - accuracy: 0.9817 - val_loss: 0.0236 - val_accuracy: 0.9948\n",
            "Epoch 19/20\n",
            "49/49 [==============================] - 1s 13ms/step - loss: 0.0653 - accuracy: 0.9822 - val_loss: 0.0229 - val_accuracy: 0.9957\n",
            "Epoch 20/20\n",
            "49/49 [==============================] - 1s 13ms/step - loss: 0.0641 - accuracy: 0.9829 - val_loss: 0.0218 - val_accuracy: 0.9956\n"
          ]
        },
        {
          "output_type": "execute_result",
          "data": {
            "text/plain": [
              "dict_keys(['loss', 'accuracy', 'val_loss', 'val_accuracy'])"
            ]
          },
          "metadata": {},
          "execution_count": 29
        }
      ]
    },
    {
      "cell_type": "code",
      "source": [
        "import matplotlib.pyplot as plt\n",
        "loss_value6 = history6_dict_Dropout[\"loss\"]\n",
        "val_loss_value6 = history6_dict_Dropout[\"val_loss\"]\n",
        "epochs = range(1, len(loss_value6) + 1)\n",
        "plt.plot(epochs, loss_value6, \"bo\", label=\"Training loss\")\n",
        "plt.plot(epochs, val_loss_value6, \"b\", label=\"Validation loss\")\n",
        "plt.title(\"Training and validation loss\")\n",
        "plt.xlabel(\"Epochs\")\n",
        "plt.ylabel(\"Loss\")\n",
        "plt.legend()\n",
        "plt.show()\n",
        "plt.clf()\n",
        "acc = history6_dict_Dropout[\"accuracy\"]\n",
        "val_acc = history6_dict_Dropout[\"val_accuracy\"]\n",
        "plt.plot(epochs, acc, \"bo\", label=\"Training acc\")\n",
        "plt.plot(epochs, val_acc, \"b\", label=\"Validation acc\")\n",
        "plt.title(\"Training and validation accuracy\")\n",
        "plt.xlabel(\"Epochs\")\n",
        "plt.ylabel(\"Accuracy\")\n",
        "plt.legend()\n",
        "plt.show()"
      ],
      "metadata": {
        "colab": {
          "base_uri": "https://localhost:8080/",
          "height": 573
        },
        "id": "TN_HjLLceW8P",
        "outputId": "16689733-a7b2-4226-da80-0a93151a27b1"
      },
      "execution_count": 30,
      "outputs": [
        {
          "output_type": "display_data",
          "data": {
            "text/plain": [
              "<Figure size 432x288 with 1 Axes>"
            ],
            "image/png": "[encoded data removed]"
          },
          "metadata": {
            "needs_background": "light"
          }
        },
        {
          "output_type": "display_data",
          "data": {
            "text/plain": [
              "<Figure size 432x288 with 1 Axes>"
            ],
            "image/png": "[encoded data removed]"
          },
          "metadata": {
            "needs_background": "light"
          }
        }
      ]
    },
    {
      "cell_type": "code",
      "source": [
        "model6_Dropout.fit(x_train, y_train, epochs=3, batch_size=512)\n",
        "results6 = model6_Dropout.evaluate(x_test, y_test)"
      ],
      "metadata": {
        "colab": {
          "base_uri": "https://localhost:8080/"
        },
        "id": "wXzqJS-UfYPB",
        "outputId": "7e416571-35f1-4fe4-feed-ca24dc1c510c"
      },
      "execution_count": 31,
      "outputs": [
        {
          "output_type": "stream",
          "name": "stdout",
          "text": [
            "Epoch 1/3\n",
            "49/49 [==============================] - 0s 10ms/step - loss: 0.0641 - accuracy: 0.9824\n",
            "Epoch 2/3\n",
            "49/49 [==============================] - 0s 10ms/step - loss: 0.0627 - accuracy: 0.9839\n",
            "Epoch 3/3\n",
            "49/49 [==============================] - 0s 10ms/step - loss: 0.0609 - accuracy: 0.9832\n",
            "782/782 [==============================] - 2s 2ms/step - loss: 0.7649 - accuracy: 0.8702\n"
          ]
        }
      ]
    },
    {
      "cell_type": "code",
      "source": [
        "results6"
      ],
      "metadata": {
        "colab": {
          "base_uri": "https://localhost:8080/"
        },
        "id": "x4_R6d0BhIFd",
        "outputId": "28850e09-78a1-4859-e579-74b41a3f4a73"
      },
      "execution_count": 32,
      "outputs": [
        {
          "output_type": "execute_result",
          "data": {
            "text/plain": [
              "[0.7648531794548035, 0.870199978351593]"
            ]
          },
          "metadata": {},
          "execution_count": 32
        }
      ]
    },
    {
      "cell_type": "markdown",
      "source": [
        "**Summary**"
      ],
      "metadata": {
        "id": "BU85Aw0ChYVl"
      }
    },
    {
      "cell_type": "code",
      "source": [
        "import numpy\n",
        "all_Loss= numpy.array([results6[0],results5[0],results4[0],results3[0],results2[0]])*100\n",
        "all_Loss\n",
        "all_Accuracy= numpy.array([results6[1],results5[1],results4[1],results3[1],results2[1]])*100\n",
        "all_Accuracy\n",
        "Labels=['Model6_Dropout','Model5','Model4','model3','model2']\n",
        "\n",
        "plt.clf()"
      ],
      "metadata": {
        "colab": {
          "base_uri": "https://localhost:8080/",
          "height": 34
        },
        "id": "TTZsv-P7haoG",
        "outputId": "185d56b1-7579-4d21-fa7d-52b935ec67d5"
      },
      "execution_count": 33,
      "outputs": [
        {
          "output_type": "display_data",
          "data": {
            "text/plain": [
              "<Figure size 432x288 with 0 Axes>"
            ]
          },
          "metadata": {}
        }
      ]
    },
    {
      "cell_type": "code",
      "source": [
        "fig, ax = plt.subplots()\n",
        "ax.scatter(all_Loss,all_Accuracy)\n",
        "for i, txt in enumerate(Labels):\n",
        "    ax.annotate(txt, (all_Loss[i],all_Accuracy[i] ))\n",
        "plt.title(\"Final Summary for Accuracy and Loss\")\n",
        "plt.ylabel(\"Accuracy\")\n",
        "plt.xlabel(\"Loss\")\n",
        "\n",
        "plt.show()"
      ],
      "metadata": {
        "colab": {
          "base_uri": "https://localhost:8080/",
          "height": 295
        },
        "id": "vZGBeVpqXV7y",
        "outputId": "22774ee1-fae8-476d-e4f8-2c9219575520"
      },
      "execution_count": 34,
      "outputs": [
        {
          "output_type": "display_data",
          "data": {
            "text/plain": [
              "<Figure size 432x288 with 1 Axes>"
            ],
            "image/png": "[encoded data removed]"
          },
          "metadata": {
            "needs_background": "light"
          }
        }
      ]
    },
    {
      "cell_type": "markdown",
      "source": [
        "Model 5 has the maximum accuracy,where we used 2 dense layer of 16,16. When we The model where MSE was used has the minimum loss.\n",
        "When we increased the number of hidden layers both accuracy and loss were increased.\n",
        "When we increased layers with more hidden units there was a significant increase in loss whereas the accuracy had a minimal impact. "
      ],
      "metadata": {
        "id": "nT5a1aAEXpKG"
      }
    }
  ],
  "metadata": {
    "kernelspec": {
      "display_name": "Python 3",
      "language": "python",
      "name": "python3"
    },
    "language_info": {
      "codemirror_mode": {
        "name": "ipython",
        "version": 3
      },
      "file_extension": ".py",
      "mimetype": "text/x-python",
      "name": "python",
      "nbconvert_exporter": "python",
      "pygments_lexer": "ipython3",
      "version": "3.5.2"
    },
    "colab": {
      "provenance": [],
      "collapsed_sections": [],
      "machine_shape": "hm"
    },
    "accelerator": "GPU",
    "gpuClass": "standard"
  },
  "nbformat": 4,
  "nbformat_minor": 0
}