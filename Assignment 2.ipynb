{
  "nbformat": 4,
  "nbformat_minor": 0,
  "metadata": {
    "colab": {
      "provenance": [],
      "collapsed_sections": [],
      "authorship_tag": "ABX9TyPfIJ2/3MKr27OQy/T/nVjE",
      "include_colab_link": true
    },
    "kernelspec": {
      "name": "python3",
      "display_name": "Python 3"
    },
    "language_info": {
      "name": "python"
    }
  },
  "cells": [
    {
      "cell_type": "markdown",
      "metadata": {
        "id": "view-in-github",
        "colab_type": "text"
      },
      "source": [
        "<a href=\"https://colab.research.google.com/github/AnuraagVasal/Avasal_64061/blob/main/Assignment%202.ipynb\" target=\"_parent\"><img src=\"https://colab.research.google.com/assets/colab-badge.svg\" alt=\"Open In Colab\"/></a>"
      ]
    },
    {
      "cell_type": "code",
      "execution_count": null,
      "metadata": {
        "id": "vklFArstQfDQ"
      },
      "outputs": [],
      "source": [
        "! pip install kaggle"
      ]
    },
    {
      "cell_type": "code",
      "source": [
        "! cp kaggle.json ~/.kaggle/"
      ],
      "metadata": {
        "id": "nSPfUMmHrbrS"
      },
      "execution_count": 5,
      "outputs": []
    },
    {
      "cell_type": "code",
      "source": [
        "! chmod 600 ~/.kaggle/kaggle.json"
      ],
      "metadata": {
        "id": "iv-28C5drlIu"
      },
      "execution_count": 6,
      "outputs": []
    },
    {
      "cell_type": "code",
      "source": [
        "! kaggle competitions download dogs-vs-cats"
      ],
      "metadata": {
        "colab": {
          "base_uri": "https://localhost:8080/"
        },
        "id": "4zev_C_rrsy3",
        "outputId": "fd5d69a4-9266-46c5-cb1f-d3813839e328"
      },
      "execution_count": 7,
      "outputs": [
        {
          "output_type": "stream",
          "name": "stdout",
          "text": [
            "Downloading dogs-vs-cats.zip to /content\n",
            " 99% 800M/812M [00:04<00:00, 199MB/s]\n",
            "100% 812M/812M [00:04<00:00, 178MB/s]\n"
          ]
        }
      ]
    },
    {
      "cell_type": "code",
      "source": [
        "!unzip -qq dogs-vs-cats.zip\n",
        "!unzip -qq train.zip\n",
        "!unzip -qq test1.zip"
      ],
      "metadata": {
        "id": "3ROIDszD35AU"
      },
      "execution_count": 8,
      "outputs": []
    },
    {
      "cell_type": "markdown",
      "source": [
        "**QUESTION 1**\n",
        "Consider the Cats & Dogs example. Start initially with a training sample of 1000, a validation \n",
        "sample of 500, and a test sample of 500 (like in the text). Use any technique to reduce \n",
        "overfitting and improve performance in developing a network that you train from scratch. What \n",
        "performance did you achieve?  "
      ],
      "metadata": {
        "id": "aNYNCpaHRNaV"
      }
    },
    {
      "cell_type": "code",
      "source": [
        "import os, shutil, pathlib\n",
        "\n",
        "original_dir = pathlib.Path(\"train\")\n",
        "shutil.rmtree(\"./cats_vs_dogs_small\",ignore_errors=True)\n",
        "new_base_dir = pathlib.Path(\"cats_vs_dogs_small\")\n",
        "\n",
        "def make_subset(subset_name, start_index, end_index):\n",
        "    for category in (\"cat\", \"dog\"):\n",
        "        dir = new_base_dir / subset_name / category\n",
        "        os.makedirs(dir)\n",
        "        fnames = [f\"{category}.{i}.jpg\" for i in range(start_index, end_index)]\n",
        "        for fname in fnames:\n",
        "            shutil.copyfile(src=original_dir / fname,\n",
        "                            dst=dir / fname)\n",
        "\n",
        "make_subset(\"train\", start_index=0, end_index=1000)\n",
        "make_subset(\"validation\", start_index=1000, end_index=1500)\n",
        "make_subset(\"test\", start_index=1500, end_index=2000)\n",
        "\n",
        "make_subset(\"train\", start_index=0, end_index=1000)\n",
        "make_subset(\"validation\", start_index=1000, end_index=1500)\n",
        "make_subset(\"test\", start_index=1500, end_index=2000)"
      ],
      "metadata": {
        "id": "loa6JuIKROKa"
      },
      "execution_count": null,
      "outputs": []
    },
    {
      "cell_type": "markdown",
      "source": [
        "Building the model"
      ],
      "metadata": {
        "id": "vV-TmlGxRTj9"
      }
    },
    {
      "cell_type": "code",
      "source": [
        "from tensorflow.keras.utils import image_dataset_from_directory\n",
        "\n",
        "train_dataset = image_dataset_from_directory(\n",
        "    new_base_dir / \"train\",\n",
        "    image_size=(180, 180),\n",
        "    batch_size=32)\n",
        "validation_dataset = image_dataset_from_directory(\n",
        "    new_base_dir / \"validation\",\n",
        "    image_size=(180, 180),\n",
        "    batch_size=32)\n",
        "test_dataset = image_dataset_from_directory(\n",
        "    new_base_dir / \"test\",\n",
        "    image_size=(180, 180),\n",
        "    batch_size=32)"
      ],
      "metadata": {
        "id": "-ZLpBHS0RUmp",
        "colab": {
          "base_uri": "https://localhost:8080/"
        },
        "outputId": "73a88bff-170c-44e0-cc90-7906e5d115bf"
      },
      "execution_count": 13,
      "outputs": [
        {
          "output_type": "stream",
          "name": "stdout",
          "text": [
            "Found 2000 files belonging to 2 classes.\n",
            "Found 1000 files belonging to 2 classes.\n",
            "Found 1000 files belonging to 2 classes.\n"
          ]
        }
      ]
    },
    {
      "cell_type": "code",
      "source": [
        "import numpy as np\n",
        "import tensorflow as tf\n",
        "random_numbers = np.random.normal(size=(1000, 16))\n",
        "dataset = tf.data.Dataset.from_tensor_slices(random_numbers)"
      ],
      "metadata": {
        "id": "joHIp-V-Ra02"
      },
      "execution_count": 14,
      "outputs": []
    },
    {
      "cell_type": "code",
      "source": [
        "for i, element in enumerate(dataset):\n",
        "    print(element.shape)\n",
        "    if i >= 2:\n",
        "        break"
      ],
      "metadata": {
        "id": "fiJBXXUgRc4l",
        "colab": {
          "base_uri": "https://localhost:8080/"
        },
        "outputId": "bd5ebcb1-f25f-427c-a062-51a651710af1"
      },
      "execution_count": 15,
      "outputs": [
        {
          "output_type": "stream",
          "name": "stdout",
          "text": [
            "(16,)\n",
            "(16,)\n",
            "(16,)\n"
          ]
        }
      ]
    },
    {
      "cell_type": "code",
      "source": [
        "batched_dataset = dataset.batch(32)\n",
        "for i, element in enumerate(batched_dataset):\n",
        "    print(element.shape)\n",
        "    if i >= 2:\n",
        "      break"
      ],
      "metadata": {
        "id": "0lqJqDP6Rf_u",
        "colab": {
          "base_uri": "https://localhost:8080/"
        },
        "outputId": "ca07a2c3-95e9-4539-bd8b-38d9c7e92533"
      },
      "execution_count": 16,
      "outputs": [
        {
          "output_type": "stream",
          "name": "stdout",
          "text": [
            "(32, 16)\n",
            "(32, 16)\n",
            "(32, 16)\n"
          ]
        }
      ]
    },
    {
      "cell_type": "code",
      "source": [
        "reshaped_dataset = dataset.map(lambda x: tf.reshape(x, (4, 4)))\n",
        "for i, element in enumerate(reshaped_dataset):\n",
        "    print(element.shape)\n",
        "    if i >= 2:\n",
        "        break"
      ],
      "metadata": {
        "id": "SjEfj4LiRkyd",
        "colab": {
          "base_uri": "https://localhost:8080/"
        },
        "outputId": "21f6f12f-44a7-42de-849b-5b9da135abc9"
      },
      "execution_count": 17,
      "outputs": [
        {
          "output_type": "stream",
          "name": "stdout",
          "text": [
            "(4, 4)\n",
            "(4, 4)\n",
            "(4, 4)\n"
          ]
        }
      ]
    },
    {
      "cell_type": "code",
      "source": [
        "for data_batch, labels_batch in train_dataset:\n",
        "    print(\"data batch shape:\", data_batch.shape)\n",
        "    print(\"labels batch shape:\", labels_batch.shape)\n",
        "    break"
      ],
      "metadata": {
        "id": "r8hk9SYRRnWP",
        "colab": {
          "base_uri": "https://localhost:8080/"
        },
        "outputId": "c36d5792-10ee-4c87-c33e-25ab14a67879"
      },
      "execution_count": 18,
      "outputs": [
        {
          "output_type": "stream",
          "name": "stdout",
          "text": [
            "data batch shape: (32, 180, 180, 3)\n",
            "labels batch shape: (32,)\n"
          ]
        }
      ]
    },
    {
      "cell_type": "markdown",
      "source": [
        "Instantiating a small convnet for dogs vs. cats classification"
      ],
      "metadata": {
        "id": "bmjEH9y5Rphw"
      }
    },
    {
      "cell_type": "code",
      "source": [
        "from tensorflow import keras\n",
        "from tensorflow.keras import layers\n",
        "\n",
        "inputs = keras.Input(shape=(180, 180, 3))\n",
        "x = layers.Rescaling(1./255)(inputs)\n",
        "x = layers.Conv2D(filters=32, kernel_size=3, activation=\"relu\")(x)\n",
        "x = layers.MaxPooling2D(pool_size=2)(x)\n",
        "x = layers.Conv2D(filters=64, kernel_size=3, activation=\"relu\")(x)\n",
        "x = layers.MaxPooling2D(pool_size=2)(x)\n",
        "x = layers.Conv2D(filters=128, kernel_size=3, activation=\"relu\")(x)\n",
        "x = layers.MaxPooling2D(pool_size=2)(x)\n",
        "x = layers.Conv2D(filters=256, kernel_size=3, activation=\"relu\")(x)\n",
        "x = layers.MaxPooling2D(pool_size=2)(x)\n",
        "x = layers.Conv2D(filters=256, kernel_size=3, activation=\"relu\")(x)\n",
        "x = layers.Flatten()(x)\n",
        "x = layers.Dropout(0.5)(x)\n",
        "outputs = layers.Dense(1, activation=\"sigmoid\")(x)\n",
        "model = keras.Model(inputs=inputs, outputs=outputs)"
      ],
      "metadata": {
        "id": "oq6miY0ZRrpm"
      },
      "execution_count": 19,
      "outputs": []
    },
    {
      "cell_type": "code",
      "source": [
        "model.summary()"
      ],
      "metadata": {
        "id": "fKZOo94WRvix",
        "colab": {
          "base_uri": "https://localhost:8080/"
        },
        "outputId": "eb0fa173-8d7e-44ac-9c53-e1325f6b4ca5"
      },
      "execution_count": 20,
      "outputs": [
        {
          "output_type": "stream",
          "name": "stdout",
          "text": [
            "Model: \"model\"\n",
            "_________________________________________________________________\n",
            " Layer (type)                Output Shape              Param #   \n",
            "=================================================================\n",
            " input_1 (InputLayer)        [(None, 180, 180, 3)]     0         \n",
            "                                                                 \n",
            " rescaling (Rescaling)       (None, 180, 180, 3)       0         \n",
            "                                                                 \n",
            " conv2d (Conv2D)             (None, 178, 178, 32)      896       \n",
            "                                                                 \n",
            " max_pooling2d (MaxPooling2D  (None, 89, 89, 32)       0         \n",
            " )                                                               \n",
            "                                                                 \n",
            " conv2d_1 (Conv2D)           (None, 87, 87, 64)        18496     \n",
            "                                                                 \n",
            " max_pooling2d_1 (MaxPooling  (None, 43, 43, 64)       0         \n",
            " 2D)                                                             \n",
            "                                                                 \n",
            " conv2d_2 (Conv2D)           (None, 41, 41, 128)       73856     \n",
            "                                                                 \n",
            " max_pooling2d_2 (MaxPooling  (None, 20, 20, 128)      0         \n",
            " 2D)                                                             \n",
            "                                                                 \n",
            " conv2d_3 (Conv2D)           (None, 18, 18, 256)       295168    \n",
            "                                                                 \n",
            " max_pooling2d_3 (MaxPooling  (None, 9, 9, 256)        0         \n",
            " 2D)                                                             \n",
            "                                                                 \n",
            " conv2d_4 (Conv2D)           (None, 7, 7, 256)         590080    \n",
            "                                                                 \n",
            " flatten (Flatten)           (None, 12544)             0         \n",
            "                                                                 \n",
            " dropout (Dropout)           (None, 12544)             0         \n",
            "                                                                 \n",
            " dense (Dense)               (None, 1)                 12545     \n",
            "                                                                 \n",
            "=================================================================\n",
            "Total params: 991,041\n",
            "Trainable params: 991,041\n",
            "Non-trainable params: 0\n",
            "_________________________________________________________________\n"
          ]
        }
      ]
    },
    {
      "cell_type": "markdown",
      "source": [
        "We made a model having 5 conv2D layers and 4 maxpooling layers."
      ],
      "metadata": {
        "id": "aA_bHkEMsdly"
      }
    },
    {
      "cell_type": "markdown",
      "source": [
        "Configuring the model for training"
      ],
      "metadata": {
        "id": "OWuAQl0pRymK"
      }
    },
    {
      "cell_type": "code",
      "source": [
        "model.compile(loss=\"binary_crossentropy\",\n",
        "              optimizer=\"rmsprop\",\n",
        "              metrics=[\"accuracy\"])"
      ],
      "metadata": {
        "id": "wVUYLBVgR0gV"
      },
      "execution_count": 21,
      "outputs": []
    },
    {
      "cell_type": "markdown",
      "source": [
        "Data preprocessing"
      ],
      "metadata": {
        "id": "qA2VQsmkR28Y"
      }
    },
    {
      "cell_type": "code",
      "source": [
        "from keras.callbacks import ModelCheckpoint, EarlyStopping\n",
        "callbacks = [\n",
        "    keras.callbacks.ModelCheckpoint(\n",
        "        filepath=\"convnet_from_scratch.keras\",\n",
        "        save_best_only=True,\n",
        "        monitor=\"val_loss\")\n",
        "]\n",
        "history = model.fit(\n",
        "    train_dataset,\n",
        "    epochs=10,\n",
        "    validation_data=validation_dataset,\n",
        "    callbacks=callbacks)"
      ],
      "metadata": {
        "id": "dZR570uxR3gk",
        "colab": {
          "base_uri": "https://localhost:8080/"
        },
        "outputId": "d2b8d7fe-f3d0-4a00-bd69-7d098ce76956"
      },
      "execution_count": 22,
      "outputs": [
        {
          "output_type": "stream",
          "name": "stdout",
          "text": [
            "Epoch 1/10\n",
            "63/63 [==============================] - 221s 3s/step - loss: 0.7099 - accuracy: 0.5055 - val_loss: 0.6928 - val_accuracy: 0.5000\n",
            "Epoch 2/10\n",
            "63/63 [==============================] - 209s 3s/step - loss: 0.6927 - accuracy: 0.5500 - val_loss: 0.6607 - val_accuracy: 0.6380\n",
            "Epoch 3/10\n",
            "63/63 [==============================] - 216s 3s/step - loss: 0.6639 - accuracy: 0.6120 - val_loss: 0.6905 - val_accuracy: 0.6070\n",
            "Epoch 4/10\n",
            "63/63 [==============================] - 216s 3s/step - loss: 0.6469 - accuracy: 0.6495 - val_loss: 0.6080 - val_accuracy: 0.6610\n",
            "Epoch 5/10\n",
            "63/63 [==============================] - 221s 4s/step - loss: 0.6076 - accuracy: 0.6905 - val_loss: 0.6067 - val_accuracy: 0.6670\n",
            "Epoch 6/10\n",
            "63/63 [==============================] - 218s 3s/step - loss: 0.5624 - accuracy: 0.7210 - val_loss: 0.5867 - val_accuracy: 0.6890\n",
            "Epoch 7/10\n",
            "63/63 [==============================] - 208s 3s/step - loss: 0.5349 - accuracy: 0.7415 - val_loss: 0.5506 - val_accuracy: 0.7360\n",
            "Epoch 8/10\n",
            "63/63 [==============================] - 206s 3s/step - loss: 0.4865 - accuracy: 0.7665 - val_loss: 0.6614 - val_accuracy: 0.7070\n",
            "Epoch 9/10\n",
            "63/63 [==============================] - 214s 3s/step - loss: 0.4524 - accuracy: 0.7835 - val_loss: 0.5676 - val_accuracy: 0.7380\n",
            "Epoch 10/10\n",
            "63/63 [==============================] - 204s 3s/step - loss: 0.4270 - accuracy: 0.7915 - val_loss: 0.6009 - val_accuracy: 0.7470\n"
          ]
        }
      ]
    },
    {
      "cell_type": "markdown",
      "source": [
        "Displaying curves of loss and accuracy during training"
      ],
      "metadata": {
        "id": "v8gFHeoTR761"
      }
    },
    {
      "cell_type": "code",
      "source": [
        "import matplotlib.pyplot as plt\n",
        "plt.figure(figsize=(10, 10))\n",
        "accuracy = history.history[\"accuracy\"]\n",
        "val_accuracy = history.history[\"val_accuracy\"]\n",
        "loss = history.history[\"loss\"]\n",
        "val_loss = history.history[\"val_loss\"]\n",
        "epochs = range(1, len(accuracy) + 1)\n",
        "plt.plot(epochs, accuracy, \"bo\", label=\"Training accuracy\")\n",
        "plt.plot(epochs, val_accuracy, \"b\", label=\"Validation accuracy\")\n",
        "plt.title(\"Training and validation accuracy\")\n",
        "plt.legend()\n",
        "plt.figure()\n",
        "plt.figure(figsize=(10, 10))\n",
        "plt.plot(epochs, loss, \"bo\", label=\"Training loss\")\n",
        "plt.plot(epochs, val_loss, \"b\", label=\"Validation loss\")\n",
        "plt.title(\"Training and validation loss\")\n",
        "plt.legend()\n",
        "plt.show()"
      ],
      "metadata": {
        "id": "Az8wgJmZR-vi",
        "colab": {
          "base_uri": "https://localhost:8080/",
          "height": 1000
        },
        "outputId": "285f5dc6-9a44-42c6-9678-f5fd4259300d"
      },
      "execution_count": 23,
      "outputs": [
        {
          "output_type": "display_data",
          "data": {
            "text/plain": [
              "<Figure size 720x720 with 1 Axes>"
            ],
            "image/png": "[encoded data removed]"
          },
          "metadata": {
            "needs_background": "light"
          }
        },
        {
          "output_type": "display_data",
          "data": {
            "text/plain": [
              "<Figure size 432x288 with 0 Axes>"
            ]
          },
          "metadata": {}
        },
        {
          "output_type": "display_data",
          "data": {
            "text/plain": [
              "<Figure size 720x720 with 1 Axes>"
            ],
            "image/png": "[encoded data removed]"
          },
          "metadata": {
            "needs_background": "light"
          }
        }
      ]
    },
    {
      "cell_type": "markdown",
      "source": [
        "Evaluating the model on the test set"
      ],
      "metadata": {
        "id": "FPiL_4X2SJtG"
      }
    },
    {
      "cell_type": "code",
      "source": [
        "test_model = keras.models.load_model(\"convnet_from_scratch.keras\")\n",
        "test_loss, test_acc = test_model.evaluate(test_dataset)\n",
        "print(f\"Test accuracy: {test_acc:.3f}\")"
      ],
      "metadata": {
        "id": "iNy6cIAXSMTc",
        "colab": {
          "base_uri": "https://localhost:8080/"
        },
        "outputId": "acf0c894-a38c-4466-dff6-360ff224c97a"
      },
      "execution_count": 24,
      "outputs": [
        {
          "output_type": "stream",
          "name": "stdout",
          "text": [
            "32/32 [==============================] - 24s 743ms/step - loss: 0.5779 - accuracy: 0.7030\n",
            "Test accuracy: 0.703\n"
          ]
        }
      ]
    },
    {
      "cell_type": "markdown",
      "source": [
        "The performance that I achieved with a training sample of 1,000 and a validation sample of 500 and a test sample of 500 was 70% for test accuracy."
      ],
      "metadata": {
        "id": "AS-7ivqxSQPk"
      }
    },
    {
      "cell_type": "markdown",
      "source": [
        "**QUESTION #2**"
      ],
      "metadata": {
        "id": "zdFcVnf4ST1y"
      }
    },
    {
      "cell_type": "code",
      "source": [
        "import os, shutil, pathlib\n",
        "\n",
        "shutil.rmtree(\"./cats_vs_dogs_small_Q2\", ignore_errors=True)\n",
        "\n",
        "original_dir = pathlib.Path(\"train\")\n",
        "new_base_dir = pathlib.Path(\"cats_vs_dogs_small_Q2\")\n",
        "\n",
        "def make_subset(subset_name, start_index, end_index):\n",
        "    for category in (\"cat\", \"dog\"):\n",
        "        dir = new_base_dir / subset_name / category\n",
        "        os.makedirs(dir)\n",
        "        fnames = [f\"{category}.{i}.jpg\" for i in range(start_index, end_index)]\n",
        "        for fname in fnames:\n",
        "            shutil.copyfile(src=original_dir / fname,\n",
        "                            dst=dir / fname)\n",
        "make_subset(\"train\", start_index=0, end_index=1500)\n",
        "make_subset(\"validation\", start_index=1500, end_index=2000)\n",
        "make_subset(\"test\", start_index=2000, end_index=2500)"
      ],
      "metadata": {
        "id": "muMkwYHY_mCf"
      },
      "execution_count": 25,
      "outputs": []
    },
    {
      "cell_type": "code",
      "source": [
        "data_augmentation = keras.Sequential(\n",
        "    [\n",
        "        layers.RandomFlip(\"horizontal\"),\n",
        "        layers.RandomRotation(0.1),\n",
        "        layers.RandomZoom(0.2),\n",
        "    ]\n",
        ")"
      ],
      "metadata": {
        "id": "uTluMOLsSZ1b"
      },
      "execution_count": 26,
      "outputs": []
    },
    {
      "cell_type": "markdown",
      "source": [
        "Displaying some randomly augmented training images"
      ],
      "metadata": {
        "id": "kJ5UIj4TScVw"
      }
    },
    {
      "cell_type": "code",
      "source": [
        "plt.figure(figsize=(10, 10))\n",
        "for images, _ in train_dataset.take(1):\n",
        "    for i in range(9):\n",
        "        augmented_images = data_augmentation(images)\n",
        "        ax = plt.subplot(3, 3, i + 1)\n",
        "        plt.imshow(augmented_images[0].numpy().astype(\"uint8\"))\n",
        "        plt.axis(\"off\")"
      ],
      "metadata": {
        "id": "rXTbSRyNSdB_",
        "colab": {
          "base_uri": "https://localhost:8080/",
          "height": 575
        },
        "outputId": "07725a4e-4fb7-4606-e03a-dd23d6155b4f"
      },
      "execution_count": 27,
      "outputs": [
        {
          "output_type": "display_data",
          "data": {
            "text/plain": [
              "<Figure size 720x720 with 9 Axes>"
            ],
            "image/png": "[encoded data removed]"
          },
          "metadata": {
            "needs_background": "light"
          }
        }
      ]
    },
    {
      "cell_type": "markdown",
      "source": [
        "Defining a new convnet that includes image augmentation and dropout"
      ],
      "metadata": {
        "id": "OFoHpyJQSiUs"
      }
    },
    {
      "cell_type": "code",
      "source": [
        "inputs = keras.Input(shape=(180, 180, 3))\n",
        "x = data_augmentation(inputs)\n",
        "x = layers.Rescaling(1./255)(x)\n",
        "x = layers.Conv2D(filters=32, kernel_size=3, activation=\"relu\")(x)\n",
        "x = layers.MaxPooling2D(pool_size=2)(x)\n",
        "x = layers.Conv2D(filters=64, kernel_size=3, activation=\"relu\")(x)\n",
        "x = layers.MaxPooling2D(pool_size=2)(x)\n",
        "x = layers.Conv2D(filters=128, kernel_size=3, activation=\"relu\")(x)\n",
        "x = layers.MaxPooling2D(pool_size=2)(x)\n",
        "x = layers.Conv2D(filters=256, kernel_size=3, activation=\"relu\")(x)\n",
        "x = layers.MaxPooling2D(pool_size=2)(x)\n",
        "x = layers.Conv2D(filters=256, kernel_size=3, activation=\"relu\")(x)\n",
        "x = layers.Flatten()(x)\n",
        "x = layers.Dropout(0.5)(x)\n",
        "outputs = layers.Dense(1, activation=\"sigmoid\")(x)\n",
        "model = keras.Model(inputs=inputs, outputs=outputs)\n",
        "\n",
        "model.compile(loss=\"binary_crossentropy\",\n",
        "              optimizer=\"rmsprop\",\n",
        "              metrics=[\"accuracy\"])"
      ],
      "metadata": {
        "id": "q1fyfLK2SizS"
      },
      "execution_count": 28,
      "outputs": []
    },
    {
      "cell_type": "markdown",
      "source": [
        "Training the regularized convnet"
      ],
      "metadata": {
        "id": "f40NK6vCSozN"
      }
    },
    {
      "cell_type": "code",
      "source": [
        "callbacks = [\n",
        "    keras.callbacks.ModelCheckpoint(\n",
        "        filepath=\"convnet_from_scratch_with_augmentation.keras\",\n",
        "        save_best_only=True,\n",
        "        monitor=\"val_loss\")\n",
        "]\n",
        "history = model.fit(\n",
        "    train_dataset,\n",
        "    epochs=10,\n",
        "    validation_data=validation_dataset,\n",
        "    callbacks=callbacks)"
      ],
      "metadata": {
        "id": "NObX5ES6SrQc",
        "colab": {
          "base_uri": "https://localhost:8080/"
        },
        "outputId": "79328c57-42fa-4c96-b425-ffc04e65e510"
      },
      "execution_count": 29,
      "outputs": [
        {
          "output_type": "stream",
          "name": "stdout",
          "text": [
            "Epoch 1/10\n",
            "63/63 [==============================] - 221s 3s/step - loss: 0.7086 - accuracy: 0.5000 - val_loss: 1.2199 - val_accuracy: 0.5000\n",
            "Epoch 2/10\n",
            "63/63 [==============================] - 225s 4s/step - loss: 0.6988 - accuracy: 0.5370 - val_loss: 0.6758 - val_accuracy: 0.5720\n",
            "Epoch 3/10\n",
            "63/63 [==============================] - 223s 4s/step - loss: 0.6862 - accuracy: 0.5695 - val_loss: 0.6721 - val_accuracy: 0.6150\n",
            "Epoch 4/10\n",
            "63/63 [==============================] - 223s 4s/step - loss: 0.6738 - accuracy: 0.6075 - val_loss: 0.6706 - val_accuracy: 0.5570\n",
            "Epoch 5/10\n",
            "63/63 [==============================] - 225s 4s/step - loss: 0.6485 - accuracy: 0.6335 - val_loss: 0.9919 - val_accuracy: 0.5600\n",
            "Epoch 6/10\n",
            "63/63 [==============================] - 225s 4s/step - loss: 0.6434 - accuracy: 0.6630 - val_loss: 0.6268 - val_accuracy: 0.6390\n",
            "Epoch 7/10\n",
            "63/63 [==============================] - 232s 4s/step - loss: 0.6333 - accuracy: 0.6520 - val_loss: 0.6029 - val_accuracy: 0.6660\n",
            "Epoch 8/10\n",
            "63/63 [==============================] - 230s 4s/step - loss: 0.6001 - accuracy: 0.6700 - val_loss: 2.3498 - val_accuracy: 0.5590\n",
            "Epoch 9/10\n",
            "63/63 [==============================] - 230s 4s/step - loss: 0.6305 - accuracy: 0.6820 - val_loss: 0.6644 - val_accuracy: 0.6490\n",
            "Epoch 10/10\n",
            "63/63 [==============================] - 231s 4s/step - loss: 0.5793 - accuracy: 0.6970 - val_loss: 0.5571 - val_accuracy: 0.7170\n"
          ]
        }
      ]
    },
    {
      "cell_type": "markdown",
      "source": [
        "Evaluating the model on the test set\n"
      ],
      "metadata": {
        "id": "G1IdMb11S8Ky"
      }
    },
    {
      "cell_type": "code",
      "source": [
        "test_model = keras.models.load_model(\n",
        "    \"convnet_from_scratch_with_augmentation.keras\")\n",
        "test_loss, test_acc = test_model.evaluate(test_dataset)\n",
        "print(f\"Test accuracy: {test_acc:.3f}\")"
      ],
      "metadata": {
        "id": "dqL8gwTRS-9A",
        "colab": {
          "base_uri": "https://localhost:8080/"
        },
        "outputId": "212f3886-1933-439e-b819-7ddb05ce5d07"
      },
      "execution_count": 30,
      "outputs": [
        {
          "output_type": "stream",
          "name": "stdout",
          "text": [
            "32/32 [==============================] - 26s 796ms/step - loss: 0.5812 - accuracy: 0.6910\n",
            "Test accuracy: 0.691\n"
          ]
        }
      ]
    },
    {
      "cell_type": "markdown",
      "source": [
        "**QUESTION 3**\n",
        "Increasing the sample size to 5000 achieve a better performance."
      ],
      "metadata": {
        "id": "OYYHFF1iTCQV"
      }
    },
    {
      "cell_type": "code",
      "source": [
        "original_dir = pathlib.Path(\"train\")\n",
        "new_base_dir = pathlib.Path(\"cats_vs_dogs_small_Q3\")\n",
        "\n",
        "def make_subset(subset_name, start_index, end_index):\n",
        "    for category in (\"cat\", \"dog\"):\n",
        "        dir = new_base_dir / subset_name / category\n",
        "        os.makedirs(dir)\n",
        "        fnames = [f\"{category}.{i}.jpg\" for i in range(start_index, end_index)]\n",
        "        for fname in fnames:\n",
        "            shutil.copyfile(src=original_dir / fname,\n",
        "                            dst=dir / fname)\n",
        " \n",
        "make_subset(\"train\", start_index=0, end_index=5000)\n",
        "make_subset(\"validation\", start_index=5000, end_index=5500)\n",
        "make_subset(\"test\", start_index=5500, end_index=6000)"
      ],
      "metadata": {
        "id": "0t8jQZWETErr"
      },
      "execution_count": 31,
      "outputs": []
    },
    {
      "cell_type": "code",
      "source": [
        "inputs = keras.Input(shape=(180, 180, 3))\n",
        "x = data_augmentation(inputs)\n",
        "x = layers.Rescaling(1./255)(x)\n",
        "x = layers.Conv2D(filters=32, kernel_size=3, activation=\"relu\")(x)\n",
        "x = layers.MaxPooling2D(pool_size=2)(x)\n",
        "x = layers.Conv2D(filters=64, kernel_size=3, activation=\"relu\")(x)\n",
        "x = layers.MaxPooling2D(pool_size=2)(x)\n",
        "x = layers.Conv2D(filters=128, kernel_size=3, activation=\"relu\")(x)\n",
        "x = layers.MaxPooling2D(pool_size=2)(x)\n",
        "x = layers.Conv2D(filters=256, kernel_size=3, activation=\"relu\")(x)\n",
        "x = layers.MaxPooling2D(pool_size=2)(x)\n",
        "x = layers.Conv2D(filters=256, kernel_size=3, activation=\"relu\")(x)\n",
        "x = layers.Flatten()(x)\n",
        "x = layers.Dropout(0.5)(x)\n",
        "outputs = layers.Dense(1, activation=\"sigmoid\")(x)\n",
        "model = keras.Model(inputs=inputs, outputs=outputs)\n",
        "\n",
        "model.compile(loss=\"binary_crossentropy\",\n",
        "              optimizer=\"adam\",\n",
        "              metrics=[\"accuracy\"])"
      ],
      "metadata": {
        "id": "C2WumzTXTG3N"
      },
      "execution_count": 32,
      "outputs": []
    },
    {
      "cell_type": "code",
      "source": [
        "callbacks = [\n",
        "    keras.callbacks.ModelCheckpoint(\n",
        "        filepath=\"convnet_from_scratch_with_augmentation1.keras\",\n",
        "        save_best_only=True,\n",
        "        monitor=\"val_loss\")\n",
        "]\n",
        "history = model.fit(\n",
        "    train_dataset,\n",
        "    epochs=15,\n",
        "    validation_data=validation_dataset,\n",
        "    callbacks=callbacks)"
      ],
      "metadata": {
        "id": "zj6HqMppTJOC",
        "colab": {
          "base_uri": "https://localhost:8080/"
        },
        "outputId": "c2c6556c-eb51-43ce-ea21-1be368a71a42"
      },
      "execution_count": 33,
      "outputs": [
        {
          "output_type": "stream",
          "name": "stdout",
          "text": [
            "Epoch 1/15\n",
            "63/63 [==============================] - 232s 4s/step - loss: 0.6946 - accuracy: 0.5000 - val_loss: 0.6919 - val_accuracy: 0.5190\n",
            "Epoch 2/15\n",
            "63/63 [==============================] - 227s 4s/step - loss: 0.6941 - accuracy: 0.5005 - val_loss: 0.6930 - val_accuracy: 0.5310\n",
            "Epoch 3/15\n",
            "63/63 [==============================] - 243s 4s/step - loss: 0.6923 - accuracy: 0.5200 - val_loss: 0.6845 - val_accuracy: 0.5510\n",
            "Epoch 4/15\n",
            "63/63 [==============================] - 248s 4s/step - loss: 0.6889 - accuracy: 0.5650 - val_loss: 0.6935 - val_accuracy: 0.5030\n",
            "Epoch 5/15\n",
            "63/63 [==============================] - 214s 3s/step - loss: 0.6917 - accuracy: 0.5280 - val_loss: 0.6772 - val_accuracy: 0.5550\n",
            "Epoch 6/15\n",
            "63/63 [==============================] - 225s 4s/step - loss: 0.6855 - accuracy: 0.5725 - val_loss: 0.6853 - val_accuracy: 0.5970\n",
            "Epoch 7/15\n",
            "63/63 [==============================] - 231s 4s/step - loss: 0.6731 - accuracy: 0.5725 - val_loss: 0.6770 - val_accuracy: 0.5520\n",
            "Epoch 8/15\n",
            "63/63 [==============================] - 217s 3s/step - loss: 0.6790 - accuracy: 0.5795 - val_loss: 0.6888 - val_accuracy: 0.5410\n",
            "Epoch 9/15\n",
            "63/63 [==============================] - 214s 3s/step - loss: 0.6581 - accuracy: 0.6235 - val_loss: 0.6519 - val_accuracy: 0.5950\n",
            "Epoch 10/15\n",
            "63/63 [==============================] - 228s 4s/step - loss: 0.6531 - accuracy: 0.6140 - val_loss: 0.6737 - val_accuracy: 0.6020\n",
            "Epoch 11/15\n",
            "63/63 [==============================] - 220s 3s/step - loss: 0.6279 - accuracy: 0.6640 - val_loss: 0.6887 - val_accuracy: 0.6030\n",
            "Epoch 12/15\n",
            "63/63 [==============================] - 223s 4s/step - loss: 0.6311 - accuracy: 0.6435 - val_loss: 0.6323 - val_accuracy: 0.6500\n",
            "Epoch 13/15\n",
            "63/63 [==============================] - 238s 4s/step - loss: 0.6175 - accuracy: 0.6600 - val_loss: 0.6392 - val_accuracy: 0.6330\n",
            "Epoch 14/15\n",
            "63/63 [==============================] - 239s 4s/step - loss: 0.6078 - accuracy: 0.6725 - val_loss: 0.6207 - val_accuracy: 0.6700\n",
            "Epoch 15/15\n",
            "63/63 [==============================] - 219s 3s/step - loss: 0.6042 - accuracy: 0.6815 - val_loss: 0.6111 - val_accuracy: 0.6740\n"
          ]
        }
      ]
    },
    {
      "cell_type": "code",
      "source": [
        "test_model = keras.models.load_model(\n",
        "    \"convnet_from_scratch_with_augmentation1.keras\")\n",
        "test_loss, test_acc = test_model.evaluate(test_dataset)\n",
        "print(f\"Test accuracy: {test_acc:.3f}\")"
      ],
      "metadata": {
        "id": "oS5wP0cbTNo7",
        "colab": {
          "base_uri": "https://localhost:8080/"
        },
        "outputId": "5f716b7e-295b-412f-f1c1-6337b5a8a39c"
      },
      "execution_count": 34,
      "outputs": [
        {
          "output_type": "stream",
          "name": "stdout",
          "text": [
            "32/32 [==============================] - 30s 888ms/step - loss: 0.6257 - accuracy: 0.6500\n",
            "Test accuracy: 0.650\n"
          ]
        }
      ]
    },
    {
      "cell_type": "markdown",
      "source": [
        "**QUESTION 4**"
      ],
      "metadata": {
        "id": "hm50sjWtTQ9v"
      }
    },
    {
      "cell_type": "code",
      "source": [
        "conv_base = keras.applications.vgg16.VGG16(\n",
        "    weights=\"imagenet\",\n",
        "    include_top=False,\n",
        "    input_shape=(180, 180, 3))"
      ],
      "metadata": {
        "id": "MNTEAtAETRc7",
        "colab": {
          "base_uri": "https://localhost:8080/"
        },
        "outputId": "17fc05a1-3fc6-413c-b312-a5683fab087d"
      },
      "execution_count": 35,
      "outputs": [
        {
          "output_type": "stream",
          "name": "stdout",
          "text": [
            "Downloading data from https://storage.googleapis.com/tensorflow/keras-applications/vgg16/vgg16_weights_tf_dim_ordering_tf_kernels_notop.h5\n",
            "58889256/58889256 [==============================] - 1s 0us/step\n"
          ]
        }
      ]
    },
    {
      "cell_type": "code",
      "source": [
        "conv_base.summary()"
      ],
      "metadata": {
        "id": "BXQPJg2yTUj8",
        "colab": {
          "base_uri": "https://localhost:8080/"
        },
        "outputId": "ac01719f-569d-47d0-cfc9-3b1be14740c7"
      },
      "execution_count": 36,
      "outputs": [
        {
          "output_type": "stream",
          "name": "stdout",
          "text": [
            "Model: \"vgg16\"\n",
            "_________________________________________________________________\n",
            " Layer (type)                Output Shape              Param #   \n",
            "=================================================================\n",
            " input_4 (InputLayer)        [(None, 180, 180, 3)]     0         \n",
            "                                                                 \n",
            " block1_conv1 (Conv2D)       (None, 180, 180, 64)      1792      \n",
            "                                                                 \n",
            " block1_conv2 (Conv2D)       (None, 180, 180, 64)      36928     \n",
            "                                                                 \n",
            " block1_pool (MaxPooling2D)  (None, 90, 90, 64)        0         \n",
            "                                                                 \n",
            " block2_conv1 (Conv2D)       (None, 90, 90, 128)       73856     \n",
            "                                                                 \n",
            " block2_conv2 (Conv2D)       (None, 90, 90, 128)       147584    \n",
            "                                                                 \n",
            " block2_pool (MaxPooling2D)  (None, 45, 45, 128)       0         \n",
            "                                                                 \n",
            " block3_conv1 (Conv2D)       (None, 45, 45, 256)       295168    \n",
            "                                                                 \n",
            " block3_conv2 (Conv2D)       (None, 45, 45, 256)       590080    \n",
            "                                                                 \n",
            " block3_conv3 (Conv2D)       (None, 45, 45, 256)       590080    \n",
            "                                                                 \n",
            " block3_pool (MaxPooling2D)  (None, 22, 22, 256)       0         \n",
            "                                                                 \n",
            " block4_conv1 (Conv2D)       (None, 22, 22, 512)       1180160   \n",
            "                                                                 \n",
            " block4_conv2 (Conv2D)       (None, 22, 22, 512)       2359808   \n",
            "                                                                 \n",
            " block4_conv3 (Conv2D)       (None, 22, 22, 512)       2359808   \n",
            "                                                                 \n",
            " block4_pool (MaxPooling2D)  (None, 11, 11, 512)       0         \n",
            "                                                                 \n",
            " block5_conv1 (Conv2D)       (None, 11, 11, 512)       2359808   \n",
            "                                                                 \n",
            " block5_conv2 (Conv2D)       (None, 11, 11, 512)       2359808   \n",
            "                                                                 \n",
            " block5_conv3 (Conv2D)       (None, 11, 11, 512)       2359808   \n",
            "                                                                 \n",
            " block5_pool (MaxPooling2D)  (None, 5, 5, 512)         0         \n",
            "                                                                 \n",
            "=================================================================\n",
            "Total params: 14,714,688\n",
            "Trainable params: 14,714,688\n",
            "Non-trainable params: 0\n",
            "_________________________________________________________________\n"
          ]
        }
      ]
    },
    {
      "cell_type": "markdown",
      "source": [
        "Fast feature extraction without data augmentation\n",
        "Extracting the VGG16 features and corresponding labels"
      ],
      "metadata": {
        "id": "gzzRA4vRTXQS"
      }
    },
    {
      "cell_type": "code",
      "source": [
        "import numpy as np\n",
        "\n",
        "def get_features_and_labels(dataset):\n",
        "    all_features = []\n",
        "    all_labels = []\n",
        "    for images, labels in dataset:\n",
        "        preprocessed_images = keras.applications.vgg16.preprocess_input(images)\n",
        "        features = conv_base.predict(preprocessed_images)\n",
        "        all_features.append(features)\n",
        "        all_labels.append(labels)\n",
        "    return np.concatenate(all_features), np.concatenate(all_labels)\n",
        "\n",
        "train_features, train_labels =  get_features_and_labels(train_dataset)\n",
        "val_features, val_labels =  get_features_and_labels(validation_dataset)\n",
        "test_features, test_labels =  get_features_and_labels(test_dataset)"
      ],
      "metadata": {
        "id": "eI62935ATZty",
        "colab": {
          "base_uri": "https://localhost:8080/"
        },
        "outputId": "9888c36e-8797-4c03-d4c8-f941ea6c285d"
      },
      "execution_count": 37,
      "outputs": [
        {
          "output_type": "stream",
          "name": "stdout",
          "text": [
            "1/1 [==============================] - 17s 17s/step\n",
            "1/1 [==============================] - 12s 12s/step\n",
            "1/1 [==============================] - 14s 14s/step\n",
            "1/1 [==============================] - 11s 11s/step\n",
            "1/1 [==============================] - 11s 11s/step\n",
            "1/1 [==============================] - 11s 11s/step\n",
            "1/1 [==============================] - 11s 11s/step\n",
            "1/1 [==============================] - 11s 11s/step\n",
            "1/1 [==============================] - 13s 13s/step\n",
            "1/1 [==============================] - 11s 11s/step\n",
            "1/1 [==============================] - 11s 11s/step\n",
            "1/1 [==============================] - 13s 13s/step\n",
            "1/1 [==============================] - 11s 11s/step\n",
            "1/1 [==============================] - 12s 12s/step\n",
            "1/1 [==============================] - 15s 15s/step\n",
            "1/1 [==============================] - 12s 12s/step\n",
            "1/1 [==============================] - 11s 11s/step\n",
            "1/1 [==============================] - 11s 11s/step\n",
            "1/1 [==============================] - 11s 11s/step\n",
            "1/1 [==============================] - 11s 11s/step\n",
            "1/1 [==============================] - 13s 13s/step\n",
            "1/1 [==============================] - 11s 11s/step\n",
            "1/1 [==============================] - 11s 11s/step\n",
            "1/1 [==============================] - 13s 13s/step\n",
            "1/1 [==============================] - 12s 12s/step\n",
            "1/1 [==============================] - 12s 12s/step\n",
            "1/1 [==============================] - 11s 11s/step\n",
            "1/1 [==============================] - 12s 12s/step\n",
            "1/1 [==============================] - 15s 15s/step\n",
            "1/1 [==============================] - 11s 11s/step\n",
            "1/1 [==============================] - 13s 13s/step\n",
            "1/1 [==============================] - 11s 11s/step\n",
            "1/1 [==============================] - 11s 11s/step\n",
            "1/1 [==============================] - 11s 11s/step\n",
            "1/1 [==============================] - 11s 11s/step\n",
            "1/1 [==============================] - 14s 14s/step\n",
            "1/1 [==============================] - 12s 12s/step\n",
            "1/1 [==============================] - 11s 11s/step\n",
            "1/1 [==============================] - 12s 12s/step\n",
            "1/1 [==============================] - 11s 11s/step\n",
            "1/1 [==============================] - 13s 13s/step\n",
            "1/1 [==============================] - 11s 11s/step\n",
            "1/1 [==============================] - 11s 11s/step\n",
            "1/1 [==============================] - 11s 11s/step\n",
            "1/1 [==============================] - 11s 11s/step\n",
            "1/1 [==============================] - 13s 13s/step\n",
            "1/1 [==============================] - 11s 11s/step\n",
            "1/1 [==============================] - 11s 11s/step\n",
            "1/1 [==============================] - 13s 13s/step\n",
            "1/1 [==============================] - 11s 11s/step\n",
            "1/1 [==============================] - 13s 13s/step\n",
            "1/1 [==============================] - 11s 11s/step\n",
            "1/1 [==============================] - 11s 11s/step\n",
            "1/1 [==============================] - 12s 12s/step\n",
            "1/1 [==============================] - 12s 12s/step\n",
            "1/1 [==============================] - 13s 13s/step\n",
            "1/1 [==============================] - 12s 12s/step\n",
            "1/1 [==============================] - 11s 11s/step\n",
            "1/1 [==============================] - 13s 13s/step\n",
            "1/1 [==============================] - 11s 11s/step\n",
            "1/1 [==============================] - 12s 12s/step\n",
            "1/1 [==============================] - 11s 11s/step\n",
            "1/1 [==============================] - 6s 6s/step\n",
            "1/1 [==============================] - 13s 13s/step\n",
            "1/1 [==============================] - 11s 11s/step\n",
            "1/1 [==============================] - 11s 11s/step\n",
            "1/1 [==============================] - 12s 12s/step\n",
            "1/1 [==============================] - 11s 11s/step\n",
            "1/1 [==============================] - 13s 13s/step\n",
            "1/1 [==============================] - 12s 12s/step\n",
            "1/1 [==============================] - 12s 12s/step\n",
            "1/1 [==============================] - 11s 11s/step\n",
            "1/1 [==============================] - 11s 11s/step\n",
            "1/1 [==============================] - 11s 11s/step\n",
            "1/1 [==============================] - 11s 11s/step\n",
            "1/1 [==============================] - 11s 11s/step\n",
            "1/1 [==============================] - 12s 12s/step\n",
            "1/1 [==============================] - 12s 12s/step\n",
            "1/1 [==============================] - 13s 13s/step\n",
            "1/1 [==============================] - 12s 12s/step\n",
            "1/1 [==============================] - 13s 13s/step\n",
            "1/1 [==============================] - 11s 11s/step\n",
            "1/1 [==============================] - 11s 11s/step\n",
            "1/1 [==============================] - 11s 11s/step\n",
            "1/1 [==============================] - 11s 11s/step\n",
            "1/1 [==============================] - 11s 11s/step\n",
            "1/1 [==============================] - 11s 11s/step\n",
            "1/1 [==============================] - 11s 11s/step\n",
            "1/1 [==============================] - 12s 12s/step\n",
            "1/1 [==============================] - 11s 11s/step\n",
            "1/1 [==============================] - 12s 12s/step\n",
            "1/1 [==============================] - 13s 13s/step\n",
            "1/1 [==============================] - 11s 11s/step\n",
            "1/1 [==============================] - 11s 11s/step\n",
            "1/1 [==============================] - 3s 3s/step\n",
            "1/1 [==============================] - 11s 11s/step\n",
            "1/1 [==============================] - 11s 11s/step\n",
            "1/1 [==============================] - 14s 14s/step\n",
            "1/1 [==============================] - 11s 11s/step\n",
            "1/1 [==============================] - 13s 13s/step\n",
            "1/1 [==============================] - 11s 11s/step\n",
            "1/1 [==============================] - 13s 13s/step\n",
            "1/1 [==============================] - 11s 11s/step\n",
            "1/1 [==============================] - 11s 11s/step\n",
            "1/1 [==============================] - 11s 11s/step\n",
            "1/1 [==============================] - 12s 12s/step\n",
            "1/1 [==============================] - 12s 12s/step\n",
            "1/1 [==============================] - 11s 11s/step\n",
            "1/1 [==============================] - 12s 12s/step\n",
            "1/1 [==============================] - 11s 11s/step\n",
            "1/1 [==============================] - 11s 11s/step\n",
            "1/1 [==============================] - 11s 11s/step\n",
            "1/1 [==============================] - 12s 12s/step\n",
            "1/1 [==============================] - 12s 12s/step\n",
            "1/1 [==============================] - 12s 12s/step\n",
            "1/1 [==============================] - 11s 11s/step\n",
            "1/1 [==============================] - 11s 11s/step\n",
            "1/1 [==============================] - 13s 13s/step\n",
            "1/1 [==============================] - 11s 11s/step\n",
            "1/1 [==============================] - 12s 12s/step\n",
            "1/1 [==============================] - 13s 13s/step\n",
            "1/1 [==============================] - 11s 11s/step\n",
            "1/1 [==============================] - 13s 13s/step\n",
            "1/1 [==============================] - 11s 11s/step\n",
            "1/1 [==============================] - 15s 15s/step\n",
            "1/1 [==============================] - 11s 11s/step\n",
            "1/1 [==============================] - 3s 3s/step\n"
          ]
        }
      ]
    },
    {
      "cell_type": "code",
      "source": [
        "train_features.shape"
      ],
      "metadata": {
        "id": "bVgAfGVPTbtd",
        "colab": {
          "base_uri": "https://localhost:8080/"
        },
        "outputId": "6f86a10d-8113-4c36-f15b-9393c11bdd0e"
      },
      "execution_count": 38,
      "outputs": [
        {
          "output_type": "execute_result",
          "data": {
            "text/plain": [
              "(2000, 5, 5, 512)"
            ]
          },
          "metadata": {},
          "execution_count": 38
        }
      ]
    },
    {
      "cell_type": "markdown",
      "source": [
        "Defining and training the densely connected classifier"
      ],
      "metadata": {
        "id": "2oM2d983Te2v"
      }
    },
    {
      "cell_type": "code",
      "source": [
        "inputs = keras.Input(shape=(5, 5, 512))\n",
        "x = layers.Flatten()(inputs)\n",
        "x = layers.Dense(256)(x)\n",
        "x = layers.Dropout(0.5)(x)\n",
        "outputs = layers.Dense(1, activation=\"sigmoid\")(x)\n",
        "model = keras.Model(inputs, outputs)\n",
        "model.compile(loss=\"binary_crossentropy\",\n",
        "              optimizer=\"rmsprop\",\n",
        "              metrics=[\"accuracy\"])\n",
        "\n",
        "callbacks = [\n",
        "    keras.callbacks.ModelCheckpoint(\n",
        "      filepath=\"feature_extraction.keras\",\n",
        "      save_best_only=True,\n",
        "      monitor=\"val_loss\")\n",
        "]\n",
        "history = model.fit(\n",
        "    train_features, train_labels,\n",
        "    epochs=10,\n",
        "    validation_data=(val_features, val_labels),\n",
        "    callbacks=callbacks)"
      ],
      "metadata": {
        "id": "KtlFdxBsTheS",
        "colab": {
          "base_uri": "https://localhost:8080/"
        },
        "outputId": "7ea04724-9993-491f-d16e-62254d00e2b9"
      },
      "execution_count": 39,
      "outputs": [
        {
          "output_type": "stream",
          "name": "stdout",
          "text": [
            "Epoch 1/10\n",
            "63/63 [==============================] - 6s 77ms/step - loss: 16.2882 - accuracy: 0.9270 - val_loss: 3.2593 - val_accuracy: 0.9700\n",
            "Epoch 2/10\n",
            "63/63 [==============================] - 4s 62ms/step - loss: 2.7324 - accuracy: 0.9740 - val_loss: 4.0571 - val_accuracy: 0.9800\n",
            "Epoch 3/10\n",
            "63/63 [==============================] - 4s 62ms/step - loss: 1.5633 - accuracy: 0.9865 - val_loss: 3.6100 - val_accuracy: 0.9730\n",
            "Epoch 4/10\n",
            "63/63 [==============================] - 5s 72ms/step - loss: 1.3499 - accuracy: 0.9895 - val_loss: 4.7370 - val_accuracy: 0.9720\n",
            "Epoch 5/10\n",
            "63/63 [==============================] - 5s 85ms/step - loss: 0.7507 - accuracy: 0.9930 - val_loss: 5.2938 - val_accuracy: 0.9730\n",
            "Epoch 6/10\n",
            "63/63 [==============================] - 5s 73ms/step - loss: 0.4644 - accuracy: 0.9955 - val_loss: 5.0003 - val_accuracy: 0.9750\n",
            "Epoch 7/10\n",
            "63/63 [==============================] - 4s 70ms/step - loss: 0.8013 - accuracy: 0.9905 - val_loss: 4.7633 - val_accuracy: 0.9740\n",
            "Epoch 8/10\n",
            "63/63 [==============================] - 4s 57ms/step - loss: 0.4134 - accuracy: 0.9970 - val_loss: 7.5508 - val_accuracy: 0.9660\n",
            "Epoch 9/10\n",
            "63/63 [==============================] - 3s 53ms/step - loss: 0.1765 - accuracy: 0.9975 - val_loss: 4.8618 - val_accuracy: 0.9750\n",
            "Epoch 10/10\n",
            "63/63 [==============================] - 4s 65ms/step - loss: 0.1311 - accuracy: 0.9980 - val_loss: 5.5168 - val_accuracy: 0.9710\n"
          ]
        }
      ]
    },
    {
      "cell_type": "markdown",
      "source": [
        "Plotting the results"
      ],
      "metadata": {
        "id": "tDumFB7LTjvN"
      }
    },
    {
      "cell_type": "code",
      "source": [
        "import matplotlib.pyplot as plt\n",
        "acc = history.history[\"accuracy\"]\n",
        "val_acc = history.history[\"val_accuracy\"]\n",
        "loss = history.history[\"loss\"]\n",
        "val_loss = history.history[\"val_loss\"]\n",
        "epochs = range(1, len(acc) + 1)\n",
        "plt.plot(epochs, acc, \"bo\", label=\"Training accuracy\")\n",
        "plt.plot(epochs, val_acc, \"b\", label=\"Validation accuracy\")\n",
        "plt.title(\"Training and validation accuracy\")\n",
        "plt.legend()\n",
        "plt.figure()\n",
        "plt.plot(epochs, loss, \"bo\", label=\"Training loss\")\n",
        "plt.plot(epochs, val_loss, \"b\", label=\"Validation loss\")\n",
        "plt.title(\"Training and validation loss\")\n",
        "plt.legend()\n",
        "plt.show()"
      ],
      "metadata": {
        "id": "KWRIzh2rTmPn",
        "colab": {
          "base_uri": "https://localhost:8080/",
          "height": 545
        },
        "outputId": "5081c399-9315-401d-9e34-336d2284f2ab"
      },
      "execution_count": 40,
      "outputs": [
        {
          "output_type": "display_data",
          "data": {
            "text/plain": [
              "<Figure size 432x288 with 1 Axes>"
            ],
            "image/png": "[encoded data removed]"
          },
          "metadata": {
            "needs_background": "light"
          }
        },
        {
          "output_type": "display_data",
          "data": {
            "text/plain": [
              "<Figure size 432x288 with 1 Axes>"
            ],
            "image/png": "[encoded data removed]"
          },
          "metadata": {
            "needs_background": "light"
          }
        }
      ]
    },
    {
      "cell_type": "markdown",
      "source": [
        "Feature extraction together with data augmentation\n",
        "Instantiating and freezing the VGG16 convolutional base"
      ],
      "metadata": {
        "id": "VnzXZvJwToh3"
      }
    },
    {
      "cell_type": "code",
      "source": [
        "conv_base  = keras.applications.vgg16.VGG16(\n",
        "    weights=\"imagenet\",\n",
        "    include_top=False)\n",
        "conv_base.trainable = False"
      ],
      "metadata": {
        "id": "a4r4p8DITqet"
      },
      "execution_count": 41,
      "outputs": []
    },
    {
      "cell_type": "markdown",
      "source": [
        "Printing the list of trainable weights before and after freezing"
      ],
      "metadata": {
        "id": "_UG-XHWHTsiJ"
      }
    },
    {
      "cell_type": "code",
      "source": [
        "conv_base.trainable = True\n",
        "print(\"This is the number of trainable weights \"\n",
        "      \"before freezing the conv base:\", len(conv_base.trainable_weights))"
      ],
      "metadata": {
        "id": "03JwKgtVTu9x",
        "colab": {
          "base_uri": "https://localhost:8080/"
        },
        "outputId": "1e2b269f-ace9-45f5-82a9-bffb0eb042fb"
      },
      "execution_count": 42,
      "outputs": [
        {
          "output_type": "stream",
          "name": "stdout",
          "text": [
            "This is the number of trainable weights before freezing the conv base: 26\n"
          ]
        }
      ]
    },
    {
      "cell_type": "code",
      "source": [
        "conv_base.trainable = False\n",
        "print(\"This is the number of trainable weights \"\n",
        "      \"after freezing the conv base:\", len(conv_base.trainable_weights))"
      ],
      "metadata": {
        "id": "Eh7R_KtyTyVp",
        "colab": {
          "base_uri": "https://localhost:8080/"
        },
        "outputId": "ac262a1d-3d1a-4396-c435-e87118cd6f75"
      },
      "execution_count": 43,
      "outputs": [
        {
          "output_type": "stream",
          "name": "stdout",
          "text": [
            "This is the number of trainable weights after freezing the conv base: 0\n"
          ]
        }
      ]
    },
    {
      "cell_type": "markdown",
      "source": [
        "Adding a data augmentation stage and a classifier to the convolutional base"
      ],
      "metadata": {
        "id": "EW12lD5WT1Pf"
      }
    },
    {
      "cell_type": "code",
      "source": [
        "data_augmentation = keras.Sequential(\n",
        "    [\n",
        "        layers.RandomFlip(\"horizontal\"),\n",
        "        layers.RandomRotation(0.1),\n",
        "        layers.RandomZoom(0.2),\n",
        "    ]\n",
        ")\n",
        "\n",
        "inputs = keras.Input(shape=(180, 180, 3))\n",
        "x = data_augmentation(inputs)\n",
        "x = keras.applications.vgg16.preprocess_input(x)\n",
        "x = conv_base(x)\n",
        "x = layers.Flatten()(x)\n",
        "x = layers.Dense(256)(x)\n",
        "x = layers.Dropout(0.5)(x)\n",
        "outputs = layers.Dense(1, activation=\"sigmoid\")(x)\n",
        "model = keras.Model(inputs, outputs)\n",
        "model.compile(loss=\"binary_crossentropy\",\n",
        "              optimizer=\"rmsprop\",\n",
        "              metrics=[\"accuracy\"])"
      ],
      "metadata": {
        "id": "z6ETz9OqT8ek"
      },
      "execution_count": 44,
      "outputs": []
    },
    {
      "cell_type": "code",
      "source": [
        "callbacks = [\n",
        "    keras.callbacks.ModelCheckpoint(\n",
        "        filepath=\"feature_extraction_with_data_augmentation.keras\",\n",
        "        save_best_only=True,\n",
        "        monitor=\"val_loss\")\n",
        "]\n",
        "history = model.fit(\n",
        "    train_dataset,\n",
        "    epochs=10,\n",
        "    validation_data=validation_dataset,\n",
        "    callbacks=callbacks)"
      ],
      "metadata": {
        "id": "h4Ku37slTyem",
        "colab": {
          "base_uri": "https://localhost:8080/"
        },
        "outputId": "20059432-52ed-4663-c72e-5c7a170ea620"
      },
      "execution_count": 45,
      "outputs": [
        {
          "output_type": "stream",
          "name": "stdout",
          "text": [
            "Epoch 1/10\n",
            "63/63 [==============================] - 1109s 18s/step - loss: 19.1000 - accuracy: 0.8920 - val_loss: 21.6222 - val_accuracy: 0.8990\n",
            "Epoch 2/10\n",
            "63/63 [==============================] - 1115s 18s/step - loss: 9.6530 - accuracy: 0.9275 - val_loss: 3.9328 - val_accuracy: 0.9730\n",
            "Epoch 3/10\n",
            "63/63 [==============================] - 1092s 17s/step - loss: 5.9773 - accuracy: 0.9565 - val_loss: 4.2349 - val_accuracy: 0.9760\n",
            "Epoch 4/10\n",
            "63/63 [==============================] - 1074s 17s/step - loss: 4.9972 - accuracy: 0.9605 - val_loss: 7.9708 - val_accuracy: 0.9620\n",
            "Epoch 5/10\n",
            "63/63 [==============================] - 1057s 17s/step - loss: 6.3481 - accuracy: 0.9535 - val_loss: 4.5300 - val_accuracy: 0.9810\n",
            "Epoch 6/10\n",
            "63/63 [==============================] - 1059s 17s/step - loss: 3.8209 - accuracy: 0.9690 - val_loss: 4.2127 - val_accuracy: 0.9760\n",
            "Epoch 7/10\n",
            "63/63 [==============================] - 1055s 17s/step - loss: 2.6353 - accuracy: 0.9745 - val_loss: 4.1755 - val_accuracy: 0.9770\n",
            "Epoch 8/10\n",
            "63/63 [==============================] - 1056s 17s/step - loss: 3.7570 - accuracy: 0.9730 - val_loss: 6.4285 - val_accuracy: 0.9720\n",
            "Epoch 9/10\n",
            "63/63 [==============================] - 1049s 17s/step - loss: 2.7436 - accuracy: 0.9725 - val_loss: 5.2248 - val_accuracy: 0.9730\n",
            "Epoch 10/10\n",
            "63/63 [==============================] - 1051s 17s/step - loss: 3.1329 - accuracy: 0.9755 - val_loss: 4.2864 - val_accuracy: 0.9750\n"
          ]
        }
      ]
    },
    {
      "cell_type": "markdown",
      "source": [
        "Evaluating the model on the test set\n"
      ],
      "metadata": {
        "id": "_EkagcxJUDrD"
      }
    },
    {
      "cell_type": "code",
      "source": [
        "test_model = keras.models.load_model(\n",
        "    \"feature_extraction_with_data_augmentation.keras\")\n",
        "test_loss, test_acc = test_model.evaluate(test_dataset)\n",
        "print(f\"Test accuracy: {test_acc:.3f}\")"
      ],
      "metadata": {
        "id": "CZtkpTLaUGEz",
        "colab": {
          "base_uri": "https://localhost:8080/"
        },
        "outputId": "44d5d791-f130-4554-950e-e8149f2d09b2"
      },
      "execution_count": 46,
      "outputs": [
        {
          "output_type": "stream",
          "name": "stdout",
          "text": [
            "32/32 [==============================] - 350s 11s/step - loss: 4.1277 - accuracy: 0.9740\n",
            "Test accuracy: 0.974\n"
          ]
        }
      ]
    },
    {
      "cell_type": "markdown",
      "source": [
        "Fine-tuning a pretrained model\n"
      ],
      "metadata": {
        "id": "FuGn4FcoUIEn"
      }
    },
    {
      "cell_type": "code",
      "source": [
        "conv_base.summary()\n"
      ],
      "metadata": {
        "id": "tJdlfx4BUJmq",
        "colab": {
          "base_uri": "https://localhost:8080/"
        },
        "outputId": "640fa7dd-172c-41aa-8f82-c9e60b44b1d9"
      },
      "execution_count": 47,
      "outputs": [
        {
          "output_type": "stream",
          "name": "stdout",
          "text": [
            "Model: \"vgg16\"\n",
            "_________________________________________________________________\n",
            " Layer (type)                Output Shape              Param #   \n",
            "=================================================================\n",
            " input_6 (InputLayer)        [(None, None, None, 3)]   0         \n",
            "                                                                 \n",
            " block1_conv1 (Conv2D)       (None, None, None, 64)    1792      \n",
            "                                                                 \n",
            " block1_conv2 (Conv2D)       (None, None, None, 64)    36928     \n",
            "                                                                 \n",
            " block1_pool (MaxPooling2D)  (None, None, None, 64)    0         \n",
            "                                                                 \n",
            " block2_conv1 (Conv2D)       (None, None, None, 128)   73856     \n",
            "                                                                 \n",
            " block2_conv2 (Conv2D)       (None, None, None, 128)   147584    \n",
            "                                                                 \n",
            " block2_pool (MaxPooling2D)  (None, None, None, 128)   0         \n",
            "                                                                 \n",
            " block3_conv1 (Conv2D)       (None, None, None, 256)   295168    \n",
            "                                                                 \n",
            " block3_conv2 (Conv2D)       (None, None, None, 256)   590080    \n",
            "                                                                 \n",
            " block3_conv3 (Conv2D)       (None, None, None, 256)   590080    \n",
            "                                                                 \n",
            " block3_pool (MaxPooling2D)  (None, None, None, 256)   0         \n",
            "                                                                 \n",
            " block4_conv1 (Conv2D)       (None, None, None, 512)   1180160   \n",
            "                                                                 \n",
            " block4_conv2 (Conv2D)       (None, None, None, 512)   2359808   \n",
            "                                                                 \n",
            " block4_conv3 (Conv2D)       (None, None, None, 512)   2359808   \n",
            "                                                                 \n",
            " block4_pool (MaxPooling2D)  (None, None, None, 512)   0         \n",
            "                                                                 \n",
            " block5_conv1 (Conv2D)       (None, None, None, 512)   2359808   \n",
            "                                                                 \n",
            " block5_conv2 (Conv2D)       (None, None, None, 512)   2359808   \n",
            "                                                                 \n",
            " block5_conv3 (Conv2D)       (None, None, None, 512)   2359808   \n",
            "                                                                 \n",
            " block5_pool (MaxPooling2D)  (None, None, None, 512)   0         \n",
            "                                                                 \n",
            "=================================================================\n",
            "Total params: 14,714,688\n",
            "Trainable params: 0\n",
            "Non-trainable params: 14,714,688\n",
            "_________________________________________________________________\n"
          ]
        }
      ]
    },
    {
      "cell_type": "markdown",
      "source": [
        "Freezing all layers until the fourth from the last"
      ],
      "metadata": {
        "id": "igC5b7mDULxi"
      }
    },
    {
      "cell_type": "code",
      "source": [
        "conv_base.trainable = True\n",
        "for layer in conv_base.layers[:-4]:\n",
        "    layer.trainable = False"
      ],
      "metadata": {
        "id": "m95pQdMMUORv"
      },
      "execution_count": 48,
      "outputs": []
    },
    {
      "cell_type": "markdown",
      "source": [
        "Fine-tuning the model"
      ],
      "metadata": {
        "id": "_VgJxLWWUQBS"
      }
    },
    {
      "cell_type": "code",
      "source": [
        "model.compile(loss=\"binary_crossentropy\",\n",
        "              optimizer=keras.optimizers.RMSprop(learning_rate=1e-5),\n",
        "              metrics=[\"accuracy\"])\n",
        "\n",
        "callbacks = [\n",
        "    keras.callbacks.ModelCheckpoint(\n",
        "        filepath=\"fine_tuning.keras\",\n",
        "        save_best_only=True,\n",
        "        monitor=\"val_loss\")\n",
        "]\n",
        "history = model.fit(\n",
        "    train_dataset,\n",
        "    epochs=10,\n",
        "    validation_data=validation_dataset,\n",
        "    callbacks=callbacks)"
      ],
      "metadata": {
        "id": "_JxJ4X3IUS9r",
        "colab": {
          "base_uri": "https://localhost:8080/"
        },
        "outputId": "4bc15c23-733f-4384-b2ce-e5b89afe9c3b"
      },
      "execution_count": 49,
      "outputs": [
        {
          "output_type": "stream",
          "name": "stdout",
          "text": [
            "Epoch 1/10\n",
            "63/63 [==============================] - 1201s 19s/step - loss: 1.7324 - accuracy: 0.9815 - val_loss: 3.4027 - val_accuracy: 0.9780\n",
            "Epoch 2/10\n",
            "63/63 [==============================] - 1195s 19s/step - loss: 1.2473 - accuracy: 0.9800 - val_loss: 2.4141 - val_accuracy: 0.9830\n",
            "Epoch 3/10\n",
            "63/63 [==============================] - 1184s 19s/step - loss: 0.6659 - accuracy: 0.9860 - val_loss: 2.8469 - val_accuracy: 0.9720\n",
            "Epoch 4/10\n",
            "63/63 [==============================] - 1169s 19s/step - loss: 0.9337 - accuracy: 0.9870 - val_loss: 2.2010 - val_accuracy: 0.9810\n",
            "Epoch 5/10\n",
            "63/63 [==============================] - 1165s 19s/step - loss: 0.5146 - accuracy: 0.9865 - val_loss: 2.1941 - val_accuracy: 0.9830\n",
            "Epoch 6/10\n",
            "63/63 [==============================] - 1162s 18s/step - loss: 0.5919 - accuracy: 0.9885 - val_loss: 2.1550 - val_accuracy: 0.9800\n",
            "Epoch 7/10\n",
            "63/63 [==============================] - 1154s 18s/step - loss: 0.4414 - accuracy: 0.9890 - val_loss: 1.9767 - val_accuracy: 0.9820\n",
            "Epoch 8/10\n",
            "63/63 [==============================] - 1154s 18s/step - loss: 0.7860 - accuracy: 0.9845 - val_loss: 2.4175 - val_accuracy: 0.9800\n",
            "Epoch 9/10\n",
            "63/63 [==============================] - 1149s 18s/step - loss: 0.3007 - accuracy: 0.9935 - val_loss: 2.5547 - val_accuracy: 0.9810\n",
            "Epoch 10/10\n",
            "63/63 [==============================] - 1144s 18s/step - loss: 0.3865 - accuracy: 0.9910 - val_loss: 2.0369 - val_accuracy: 0.9790\n"
          ]
        }
      ]
    },
    {
      "cell_type": "code",
      "source": [
        "model = keras.models.load_model(\"fine_tuning.keras\")\n",
        "test_loss, test_acc = model.evaluate(test_dataset)\n",
        "print(f\"Test accuracy: {test_acc:.3f}\")"
      ],
      "metadata": {
        "id": "UIaj6X8PUWNC",
        "colab": {
          "base_uri": "https://localhost:8080/"
        },
        "outputId": "9317a725-48cf-430b-b4da-73e4aae3b229"
      },
      "execution_count": 50,
      "outputs": [
        {
          "output_type": "stream",
          "name": "stdout",
          "text": [
            "32/32 [==============================] - 345s 11s/step - loss: 2.3082 - accuracy: 0.9700\n",
            "Test accuracy: 0.970\n"
          ]
        }
      ]
    },
    {
      "cell_type": "markdown",
      "source": [
        "**Summary**\n",
        "When we used a a pre-trained model with fine tuning, the test accuracy went upto 97%,which was comparitavely higher than the other models.\n",
        "\n",
        "It can be inferred that increasing the sample size increases the accuracy which can be seen in the above steps, which indicates that the sample size is related to the accuracy and it plays an important role.\n",
        "\n",
        "The pretrained model performed quickly as we already had the weights for the model."
      ],
      "metadata": {
        "id": "P7SF7PSrUYRE"
      }
    }
  ]
}